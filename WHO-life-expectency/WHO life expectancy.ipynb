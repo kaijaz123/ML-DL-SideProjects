{
 "cells": [
  {
   "cell_type": "code",
   "execution_count": 30,
   "id": "129c5846",
   "metadata": {},
   "outputs": [],
   "source": [
    "import pandas as pd\n",
    "import matplotlib.pyplot as plt\n",
    "import numpy as np\n",
    "from sklearn.feature_selection import mutual_info_regression\n",
    "from sklearn.model_selection import train_test_split\n",
    "from sklearn.preprocessing import OneHotEncoder, MinMaxScaler\n",
    "from sklearn.model_selection import cross_val_score\n",
    "from sklearn.model_selection import GridSearchCV\n",
    "from sklearn.ensemble import AdaBoostClassifier, BaggingClassifier\n",
    "from sklearn.svm import SVC\n",
    "import seaborn as sns\n",
    "import warnings\n",
    "\n",
    "# ignore warnings\n",
    "warnings.filterwarnings(\"ignore\")"
   ]
  },
  {
   "cell_type": "markdown",
   "id": "e145faef",
   "metadata": {},
   "source": [
    "Lets start by data exploratory to gain some inspection and understanding of our dataset."
   ]
  },
  {
   "cell_type": "code",
   "execution_count": 2,
   "id": "25a5254f",
   "metadata": {},
   "outputs": [],
   "source": [
    "# load in dataset\n",
    "data = pd.read_csv(\"Life Expectancy Data.csv\")"
   ]
  },
  {
   "cell_type": "code",
   "execution_count": 3,
   "id": "73a86681",
   "metadata": {},
   "outputs": [
    {
     "name": "stdout",
     "output_type": "stream",
     "text": [
      "Dataset contains rows: 2938, columns: 22\n"
     ]
    },
    {
     "data": {
      "text/html": [
       "<div>\n",
       "<style scoped>\n",
       "    .dataframe tbody tr th:only-of-type {\n",
       "        vertical-align: middle;\n",
       "    }\n",
       "\n",
       "    .dataframe tbody tr th {\n",
       "        vertical-align: top;\n",
       "    }\n",
       "\n",
       "    .dataframe thead th {\n",
       "        text-align: right;\n",
       "    }\n",
       "</style>\n",
       "<table border=\"1\" class=\"dataframe\">\n",
       "  <thead>\n",
       "    <tr style=\"text-align: right;\">\n",
       "      <th></th>\n",
       "      <th>Country</th>\n",
       "      <th>Year</th>\n",
       "      <th>Status</th>\n",
       "      <th>Life expectancy</th>\n",
       "      <th>Adult Mortality</th>\n",
       "      <th>infant deaths</th>\n",
       "      <th>Alcohol</th>\n",
       "      <th>percentage expenditure</th>\n",
       "      <th>Hepatitis B</th>\n",
       "      <th>Measles</th>\n",
       "      <th>...</th>\n",
       "      <th>Polio</th>\n",
       "      <th>Total expenditure</th>\n",
       "      <th>Diphtheria</th>\n",
       "      <th>HIV/AIDS</th>\n",
       "      <th>GDP</th>\n",
       "      <th>Population</th>\n",
       "      <th>thinness  1-19 years</th>\n",
       "      <th>thinness 5-9 years</th>\n",
       "      <th>Income composition of resources</th>\n",
       "      <th>Schooling</th>\n",
       "    </tr>\n",
       "  </thead>\n",
       "  <tbody>\n",
       "    <tr>\n",
       "      <th>0</th>\n",
       "      <td>Afghanistan</td>\n",
       "      <td>2015</td>\n",
       "      <td>Developing</td>\n",
       "      <td>65.0</td>\n",
       "      <td>263.0</td>\n",
       "      <td>62</td>\n",
       "      <td>0.01</td>\n",
       "      <td>71.279624</td>\n",
       "      <td>65.0</td>\n",
       "      <td>1154</td>\n",
       "      <td>...</td>\n",
       "      <td>6.0</td>\n",
       "      <td>8.16</td>\n",
       "      <td>65.0</td>\n",
       "      <td>0.1</td>\n",
       "      <td>584.259210</td>\n",
       "      <td>33736494.0</td>\n",
       "      <td>17.2</td>\n",
       "      <td>17.3</td>\n",
       "      <td>0.479</td>\n",
       "      <td>10.1</td>\n",
       "    </tr>\n",
       "    <tr>\n",
       "      <th>1</th>\n",
       "      <td>Afghanistan</td>\n",
       "      <td>2014</td>\n",
       "      <td>Developing</td>\n",
       "      <td>59.9</td>\n",
       "      <td>271.0</td>\n",
       "      <td>64</td>\n",
       "      <td>0.01</td>\n",
       "      <td>73.523582</td>\n",
       "      <td>62.0</td>\n",
       "      <td>492</td>\n",
       "      <td>...</td>\n",
       "      <td>58.0</td>\n",
       "      <td>8.18</td>\n",
       "      <td>62.0</td>\n",
       "      <td>0.1</td>\n",
       "      <td>612.696514</td>\n",
       "      <td>327582.0</td>\n",
       "      <td>17.5</td>\n",
       "      <td>17.5</td>\n",
       "      <td>0.476</td>\n",
       "      <td>10.0</td>\n",
       "    </tr>\n",
       "    <tr>\n",
       "      <th>2</th>\n",
       "      <td>Afghanistan</td>\n",
       "      <td>2013</td>\n",
       "      <td>Developing</td>\n",
       "      <td>59.9</td>\n",
       "      <td>268.0</td>\n",
       "      <td>66</td>\n",
       "      <td>0.01</td>\n",
       "      <td>73.219243</td>\n",
       "      <td>64.0</td>\n",
       "      <td>430</td>\n",
       "      <td>...</td>\n",
       "      <td>62.0</td>\n",
       "      <td>8.13</td>\n",
       "      <td>64.0</td>\n",
       "      <td>0.1</td>\n",
       "      <td>631.744976</td>\n",
       "      <td>31731688.0</td>\n",
       "      <td>17.7</td>\n",
       "      <td>17.7</td>\n",
       "      <td>0.470</td>\n",
       "      <td>9.9</td>\n",
       "    </tr>\n",
       "    <tr>\n",
       "      <th>3</th>\n",
       "      <td>Afghanistan</td>\n",
       "      <td>2012</td>\n",
       "      <td>Developing</td>\n",
       "      <td>59.5</td>\n",
       "      <td>272.0</td>\n",
       "      <td>69</td>\n",
       "      <td>0.01</td>\n",
       "      <td>78.184215</td>\n",
       "      <td>67.0</td>\n",
       "      <td>2787</td>\n",
       "      <td>...</td>\n",
       "      <td>67.0</td>\n",
       "      <td>8.52</td>\n",
       "      <td>67.0</td>\n",
       "      <td>0.1</td>\n",
       "      <td>669.959000</td>\n",
       "      <td>3696958.0</td>\n",
       "      <td>17.9</td>\n",
       "      <td>18.0</td>\n",
       "      <td>0.463</td>\n",
       "      <td>9.8</td>\n",
       "    </tr>\n",
       "    <tr>\n",
       "      <th>4</th>\n",
       "      <td>Afghanistan</td>\n",
       "      <td>2011</td>\n",
       "      <td>Developing</td>\n",
       "      <td>59.2</td>\n",
       "      <td>275.0</td>\n",
       "      <td>71</td>\n",
       "      <td>0.01</td>\n",
       "      <td>7.097109</td>\n",
       "      <td>68.0</td>\n",
       "      <td>3013</td>\n",
       "      <td>...</td>\n",
       "      <td>68.0</td>\n",
       "      <td>7.87</td>\n",
       "      <td>68.0</td>\n",
       "      <td>0.1</td>\n",
       "      <td>63.537231</td>\n",
       "      <td>2978599.0</td>\n",
       "      <td>18.2</td>\n",
       "      <td>18.2</td>\n",
       "      <td>0.454</td>\n",
       "      <td>9.5</td>\n",
       "    </tr>\n",
       "  </tbody>\n",
       "</table>\n",
       "<p>5 rows × 22 columns</p>\n",
       "</div>"
      ],
      "text/plain": [
       "       Country  Year      Status  Life expectancy   Adult Mortality  \\\n",
       "0  Afghanistan  2015  Developing              65.0            263.0   \n",
       "1  Afghanistan  2014  Developing              59.9            271.0   \n",
       "2  Afghanistan  2013  Developing              59.9            268.0   \n",
       "3  Afghanistan  2012  Developing              59.5            272.0   \n",
       "4  Afghanistan  2011  Developing              59.2            275.0   \n",
       "\n",
       "   infant deaths  Alcohol  percentage expenditure  Hepatitis B  Measles   ...  \\\n",
       "0             62     0.01               71.279624         65.0      1154  ...   \n",
       "1             64     0.01               73.523582         62.0       492  ...   \n",
       "2             66     0.01               73.219243         64.0       430  ...   \n",
       "3             69     0.01               78.184215         67.0      2787  ...   \n",
       "4             71     0.01                7.097109         68.0      3013  ...   \n",
       "\n",
       "   Polio  Total expenditure  Diphtheria    HIV/AIDS         GDP  Population  \\\n",
       "0    6.0               8.16         65.0        0.1  584.259210  33736494.0   \n",
       "1   58.0               8.18         62.0        0.1  612.696514    327582.0   \n",
       "2   62.0               8.13         64.0        0.1  631.744976  31731688.0   \n",
       "3   67.0               8.52         67.0        0.1  669.959000   3696958.0   \n",
       "4   68.0               7.87         68.0        0.1   63.537231   2978599.0   \n",
       "\n",
       "    thinness  1-19 years   thinness 5-9 years  \\\n",
       "0                   17.2                 17.3   \n",
       "1                   17.5                 17.5   \n",
       "2                   17.7                 17.7   \n",
       "3                   17.9                 18.0   \n",
       "4                   18.2                 18.2   \n",
       "\n",
       "   Income composition of resources  Schooling  \n",
       "0                            0.479       10.1  \n",
       "1                            0.476       10.0  \n",
       "2                            0.470        9.9  \n",
       "3                            0.463        9.8  \n",
       "4                            0.454        9.5  \n",
       "\n",
       "[5 rows x 22 columns]"
      ]
     },
     "execution_count": 3,
     "metadata": {},
     "output_type": "execute_result"
    }
   ],
   "source": [
    "print(\"Dataset contains rows: {}, columns: {}\".format(data.shape[0],data.shape[1])) # total data size\n",
    "data.head()"
   ]
  },
  {
   "cell_type": "code",
   "execution_count": 4,
   "id": "994c84d0",
   "metadata": {},
   "outputs": [
    {
     "data": {
      "text/plain": [
       "Country                             object\n",
       "Year                                 int64\n",
       "Status                              object\n",
       "Life expectancy                    float64\n",
       "Adult Mortality                    float64\n",
       "infant deaths                        int64\n",
       "Alcohol                            float64\n",
       "percentage expenditure             float64\n",
       "Hepatitis B                        float64\n",
       "Measles                              int64\n",
       " BMI                               float64\n",
       "under-five deaths                    int64\n",
       "Polio                              float64\n",
       "Total expenditure                  float64\n",
       "Diphtheria                         float64\n",
       " HIV/AIDS                          float64\n",
       "GDP                                float64\n",
       "Population                         float64\n",
       " thinness  1-19 years              float64\n",
       " thinness 5-9 years                float64\n",
       "Income composition of resources    float64\n",
       "Schooling                          float64\n",
       "dtype: object"
      ]
     },
     "execution_count": 4,
     "metadata": {},
     "output_type": "execute_result"
    }
   ],
   "source": [
    "# check data types\n",
    "data.dtypes"
   ]
  },
  {
   "cell_type": "markdown",
   "id": "6a970cb8",
   "metadata": {},
   "source": [
    "Lets visualize the data and get some useful information out of it. We could select\n",
    "\n",
    "some specific columns and make an analysis on it."
   ]
  },
  {
   "cell_type": "code",
   "execution_count": 5,
   "id": "cc8adc54",
   "metadata": {},
   "outputs": [
    {
     "data": {
      "image/png": "[encoded data removed]",
      "text/plain": [
       "<Figure size 720x720 with 2 Axes>"
      ]
     },
     "metadata": {
      "needs_background": "light"
     },
     "output_type": "display_data"
    }
   ],
   "source": [
    "# See the mean of life expectancy and GDP of every country over every year\n",
    "mean_le = data.groupby(\"Year\")[\"Life expectancy \"].mean()\n",
    "mean_gdp = data.groupby(\"Year\")[\"GDP\"].mean()\n",
    "\n",
    "fig2 = plt.figure(figsize = (10,10))\n",
    "ax = fig2.add_subplot()\n",
    "ax2 = ax.twinx()\n",
    "\n",
    "ax.plot(mean_le, color = 'red', marker = 'o')\n",
    "ax2.plot(mean_gdp, color = 'blue', marker = 'o')\n",
    "\n",
    "ax.set_ylabel(\"LE\")\n",
    "ax2.set_ylabel(\"GDP\")\n",
    "ax.legend(\"LE\", loc = 1)\n",
    "ax2.legend(\"GDP\", loc = 2)\n",
    "plt.xlabel(\"Year\")\n",
    "plt.grid(True)"
   ]
  },
  {
   "cell_type": "code",
   "execution_count": 6,
   "id": "e16e22cd",
   "metadata": {},
   "outputs": [],
   "source": [
    "# get the top 10 life ecpentancy and gdp according to the country\n",
    "t10_le = data.groupby(\"Country\")[\"Life expectancy \"].mean().sort_values(ascending = False)[:10]\n",
    "t10_le_gdp = data.groupby(\"Country\")[\"GDP\"].mean()[t10_le.index]"
   ]
  },
  {
   "cell_type": "code",
   "execution_count": 7,
   "id": "32801495",
   "metadata": {
    "scrolled": false
   },
   "outputs": [
    {
     "data": {
      "image/png": "[encoded data removed]",
      "text/plain": [
       "<Figure size 720x720 with 2 Axes>"
      ]
     },
     "metadata": {
      "needs_background": "light"
     },
     "output_type": "display_data"
    }
   ],
   "source": [
    "fig = plt.figure(figsize = (10,10))\n",
    "ax = fig.add_subplot(111)\n",
    "ax2 = ax.twinx()\n",
    "\n",
    "width = 0.4\n",
    "t10_le.plot(kind = 'bar', ax = ax, color = 'blue', position = 0, width = width)\n",
    "t10_le_gdp.plot(kind = 'bar', ax = ax2, color = 'red', position = 1, width = width)\n",
    "plt.xlabel(\"Country\")\n",
    "plt.ylabel(\"LE and GDP\")\n",
    "\n",
    "ax.legend(loc = 1)\n",
    "ax2.legend(loc = 2)\n",
    "plt.show()"
   ]
  },
  {
   "cell_type": "code",
   "execution_count": 8,
   "id": "f1ad9d24",
   "metadata": {},
   "outputs": [
    {
     "data": {
      "image/png": "[encoded data removed]",
      "text/plain": [
       "<Figure size 576x576 with 1 Axes>"
      ]
     },
     "metadata": {},
     "output_type": "display_data"
    }
   ],
   "source": [
    "# Check the distribution of developed and developing country\n",
    "developed_country_cnt = len(data[data.Status == \"Developed\"][\"Country\"].unique())\n",
    "developing_country_cnt = len(data[data.Status == \"Developing\"][\"Country\"].unique())\n",
    "status_cnt = [developed_country_cnt, developing_country_cnt]\n",
    "\n",
    "# plot pie chart\n",
    "exploder = [0.1, 0.1]\n",
    "plt.figure(figsize = (8,8))\n",
    "plt.title(\"Percentage of Country in different status\")\n",
    "plt.pie(status_cnt, labels = [\"Developed\", \"Developing\"],\n",
    "        explode = exploder, shadow = True, autopct = '%1.1f%%')\n",
    "plt.legend()\n",
    "plt.show()"
   ]
  },
  {
   "cell_type": "markdown",
   "id": "c9d1b6a4",
   "metadata": {},
   "source": [
    "Now we can start by handling the missing values aka nan values."
   ]
  },
  {
   "cell_type": "code",
   "execution_count": 9,
   "id": "93609f97",
   "metadata": {},
   "outputs": [
    {
     "name": "stdout",
     "output_type": "stream",
     "text": [
      "Missing Column Value Percentage\n",
      "\n",
      "Life expectancy  - 10%\n",
      "Adult Mortality - 10%\n",
      "Alcohol - 194%\n",
      "Hepatitis B - 553%\n",
      " BMI  - 34%\n",
      "Polio - 19%\n",
      "Total expenditure - 226%\n",
      "Diphtheria  - 19%\n",
      "GDP - 448%\n",
      "Population - 652%\n",
      " thinness  1-19 years - 34%\n",
      " thinness 5-9 years - 34%\n",
      "Income composition of resources - 167%\n",
      "Schooling - 163%\n"
     ]
    }
   ],
   "source": [
    "print(\"Missing Column Value Percentage\\n\")\n",
    "missing_value = []\n",
    "for col in data.columns:\n",
    "    missing_pct = data[col].isnull().sum()\n",
    "    if missing_pct == 0: continue\n",
    "    missing_value.append(col)\n",
    "    print(\"{} - {}%\".format(col, missing_pct))"
   ]
  },
  {
   "cell_type": "markdown",
   "id": "1dcdb430",
   "metadata": {},
   "source": [
    "As the missing values analysis shown above, all of the columns contain\n",
    "\n",
    "missing values and Population contain the largest amount of missing values.\n",
    "\n",
    "Next we could visualize them with graph."
   ]
  },
  {
   "cell_type": "code",
   "execution_count": 10,
   "id": "1e884138",
   "metadata": {},
   "outputs": [
    {
     "data": {
      "image/png": "[encoded data removed]",
      "text/plain": [
       "<Figure size 576x576 with 1 Axes>"
      ]
     },
     "metadata": {
      "needs_background": "light"
     },
     "output_type": "display_data"
    }
   ],
   "source": [
    "# plot the missing value bar\n",
    "pct = np.array([data[col].isnull().sum() for col in missing_value])\n",
    "sort_index = np.argsort(pct)\n",
    "sort_value = np.sort(pct)\n",
    "sort_col = [missing_value[index] for index in sort_index]\n",
    "\n",
    "plt.figure(figsize = (8,8))\n",
    "plt.barh(y = sort_col, width = sort_value, linewidth = 1, color = \"gray\")\n",
    "plt.tight_layout()\n",
    "plt.show()"
   ]
  },
  {
   "cell_type": "code",
   "execution_count": 11,
   "id": "2f9c4a80",
   "metadata": {},
   "outputs": [],
   "source": [
    "# reset index\n",
    "data.dropna(subset = [\"Life expectancy \"], inplace = True)\n",
    "data.reset_index(drop = True, inplace = True)"
   ]
  },
  {
   "cell_type": "markdown",
   "id": "51fdde5a",
   "metadata": {},
   "source": [
    "Lets handle the missing values. Due to the small size of dataset sample, we dont simply drop\n",
    "\n",
    "the missing rows. In this case, we get the mean value of each columns according to country and \n",
    "\n",
    "replace the missing values in each columns."
   ]
  },
  {
   "cell_type": "code",
   "execution_count": 12,
   "id": "ebb6c979",
   "metadata": {},
   "outputs": [],
   "source": [
    "# handle missing values\n",
    "def fill_mean(df):\n",
    "    miss_col = data.columns[df.isnull().any()]\n",
    "    for col in miss_col:\n",
    "        miss_val = df[col].isnull()\n",
    "        miss_index = miss_val[miss_val == True].index\n",
    "        # handle according to country\n",
    "        country_mean = data.groupby('Country')[col].mean()\n",
    "        countries = country_mean.index\n",
    "        for index,mean in enumerate(country_mean):\n",
    "            country = countries[index]\n",
    "            country_index = df.iloc[miss_index]['Country'][df.iloc[miss_index]['Country'] == country]\n",
    "            if np.isnan(country_mean[index]):\n",
    "                df[col].iloc[country_index.index] = df[col].mean()\n",
    "                continue\n",
    "            df[col].iloc[country_index.index] = country_mean[index]\n",
    "            \n",
    "    return df"
   ]
  },
  {
   "cell_type": "code",
   "execution_count": 13,
   "id": "b20ac46e",
   "metadata": {
    "scrolled": false
   },
   "outputs": [
    {
     "data": {
      "text/plain": [
       "Country                            False\n",
       "Year                               False\n",
       "Status                             False\n",
       "Life expectancy                    False\n",
       "Adult Mortality                    False\n",
       "infant deaths                      False\n",
       "Alcohol                            False\n",
       "percentage expenditure             False\n",
       "Hepatitis B                        False\n",
       "Measles                            False\n",
       " BMI                               False\n",
       "under-five deaths                  False\n",
       "Polio                              False\n",
       "Total expenditure                  False\n",
       "Diphtheria                         False\n",
       " HIV/AIDS                          False\n",
       "GDP                                False\n",
       "Population                         False\n",
       " thinness  1-19 years              False\n",
       " thinness 5-9 years                False\n",
       "Income composition of resources    False\n",
       "Schooling                          False\n",
       "dtype: bool"
      ]
     },
     "execution_count": 13,
     "metadata": {},
     "output_type": "execute_result"
    }
   ],
   "source": [
    "clean_data = fill_mean(data)\n",
    "clean_data.isnull().any() # check if there is any missing value"
   ]
  },
  {
   "cell_type": "markdown",
   "id": "b8ff724f",
   "metadata": {},
   "source": [
    "Next lets perform feature selection. There are quite a number of columns here, we could filter\n",
    "\n",
    "them out by using mutual information between x cols and y col hence select the x cols\n",
    "\n",
    "that contribute better in the dataset."
   ]
  },
  {
   "cell_type": "code",
   "execution_count": 14,
   "id": "49b82c48",
   "metadata": {},
   "outputs": [],
   "source": [
    "def mutual_info(df):\n",
    "    y = df[\"Life expectancy \"]\n",
    "    x = df.drop(columns = [\"Life expectancy \"], axis = 1)\n",
    "    x = x.select_dtypes(exclude = \"object\")\n",
    "    \n",
    "    # calculate mi scores\n",
    "    mi_scores = mutual_info_regression(x, y)\n",
    "    mi_scores = pd.Series(mi_scores, name=\"MI Scores\", index=x.columns)\n",
    "    mi_scores = mi_scores.sort_values(ascending=False)\n",
    "    print(mi_scores)\n",
    "    \n",
    "    # visualization\n",
    "    mi_scores.plot(kind = 'bar', figsize = (12,10), colormap = 'coolwarm_r')\n",
    "    return mi_scores"
   ]
  },
  {
   "cell_type": "code",
   "execution_count": 15,
   "id": "7f53d06d",
   "metadata": {},
   "outputs": [
    {
     "name": "stdout",
     "output_type": "stream",
     "text": [
      "Adult Mortality                    1.268128\n",
      "Income composition of resources    0.926052\n",
      " thinness 5-9 years                0.778935\n",
      " thinness  1-19 years              0.776526\n",
      "Schooling                          0.697561\n",
      " BMI                               0.571423\n",
      " HIV/AIDS                          0.529512\n",
      "infant deaths                      0.438248\n",
      "under-five deaths                  0.437222\n",
      "Alcohol                            0.353388\n",
      "GDP                                0.352354\n",
      "Polio                              0.326086\n",
      "Diphtheria                         0.310241\n",
      "percentage expenditure             0.297931\n",
      "Hepatitis B                        0.295499\n",
      "Total expenditure                  0.269235\n",
      "Population                         0.154035\n",
      "Measles                            0.109809\n",
      "Year                               0.068313\n",
      "Name: MI Scores, dtype: float64\n"
     ]
    },
    {
     "data": {
      "image/png": "[encoded data removed]",
      "text/plain": [
       "<Figure size 864x720 with 1 Axes>"
      ]
     },
     "metadata": {
      "needs_background": "light"
     },
     "output_type": "display_data"
    }
   ],
   "source": [
    "mi_scores = mutual_info(clean_data)"
   ]
  },
  {
   "cell_type": "code",
   "execution_count": 16,
   "id": "d0a91cd0",
   "metadata": {},
   "outputs": [
    {
     "data": {
      "text/html": [
       "<div>\n",
       "<style scoped>\n",
       "    .dataframe tbody tr th:only-of-type {\n",
       "        vertical-align: middle;\n",
       "    }\n",
       "\n",
       "    .dataframe tbody tr th {\n",
       "        vertical-align: top;\n",
       "    }\n",
       "\n",
       "    .dataframe thead th {\n",
       "        text-align: right;\n",
       "    }\n",
       "</style>\n",
       "<table border=\"1\" class=\"dataframe\">\n",
       "  <thead>\n",
       "    <tr style=\"text-align: right;\">\n",
       "      <th></th>\n",
       "      <th>Country</th>\n",
       "      <th>Status</th>\n",
       "      <th>Life expectancy</th>\n",
       "      <th>Adult Mortality</th>\n",
       "      <th>infant deaths</th>\n",
       "      <th>Alcohol</th>\n",
       "      <th>BMI</th>\n",
       "      <th>under-five deaths</th>\n",
       "      <th>HIV/AIDS</th>\n",
       "      <th>thinness  1-19 years</th>\n",
       "      <th>thinness 5-9 years</th>\n",
       "      <th>Income composition of resources</th>\n",
       "      <th>Schooling</th>\n",
       "    </tr>\n",
       "  </thead>\n",
       "  <tbody>\n",
       "    <tr>\n",
       "      <th>0</th>\n",
       "      <td>Afghanistan</td>\n",
       "      <td>Developing</td>\n",
       "      <td>65.0</td>\n",
       "      <td>263.0</td>\n",
       "      <td>62</td>\n",
       "      <td>0.01</td>\n",
       "      <td>19.1</td>\n",
       "      <td>83</td>\n",
       "      <td>0.1</td>\n",
       "      <td>17.2</td>\n",
       "      <td>17.3</td>\n",
       "      <td>0.479</td>\n",
       "      <td>10.1</td>\n",
       "    </tr>\n",
       "    <tr>\n",
       "      <th>1</th>\n",
       "      <td>Afghanistan</td>\n",
       "      <td>Developing</td>\n",
       "      <td>59.9</td>\n",
       "      <td>271.0</td>\n",
       "      <td>64</td>\n",
       "      <td>0.01</td>\n",
       "      <td>18.6</td>\n",
       "      <td>86</td>\n",
       "      <td>0.1</td>\n",
       "      <td>17.5</td>\n",
       "      <td>17.5</td>\n",
       "      <td>0.476</td>\n",
       "      <td>10.0</td>\n",
       "    </tr>\n",
       "    <tr>\n",
       "      <th>2</th>\n",
       "      <td>Afghanistan</td>\n",
       "      <td>Developing</td>\n",
       "      <td>59.9</td>\n",
       "      <td>268.0</td>\n",
       "      <td>66</td>\n",
       "      <td>0.01</td>\n",
       "      <td>18.1</td>\n",
       "      <td>89</td>\n",
       "      <td>0.1</td>\n",
       "      <td>17.7</td>\n",
       "      <td>17.7</td>\n",
       "      <td>0.470</td>\n",
       "      <td>9.9</td>\n",
       "    </tr>\n",
       "    <tr>\n",
       "      <th>3</th>\n",
       "      <td>Afghanistan</td>\n",
       "      <td>Developing</td>\n",
       "      <td>59.5</td>\n",
       "      <td>272.0</td>\n",
       "      <td>69</td>\n",
       "      <td>0.01</td>\n",
       "      <td>17.6</td>\n",
       "      <td>93</td>\n",
       "      <td>0.1</td>\n",
       "      <td>17.9</td>\n",
       "      <td>18.0</td>\n",
       "      <td>0.463</td>\n",
       "      <td>9.8</td>\n",
       "    </tr>\n",
       "    <tr>\n",
       "      <th>4</th>\n",
       "      <td>Afghanistan</td>\n",
       "      <td>Developing</td>\n",
       "      <td>59.2</td>\n",
       "      <td>275.0</td>\n",
       "      <td>71</td>\n",
       "      <td>0.01</td>\n",
       "      <td>17.2</td>\n",
       "      <td>97</td>\n",
       "      <td>0.1</td>\n",
       "      <td>18.2</td>\n",
       "      <td>18.2</td>\n",
       "      <td>0.454</td>\n",
       "      <td>9.5</td>\n",
       "    </tr>\n",
       "  </tbody>\n",
       "</table>\n",
       "</div>"
      ],
      "text/plain": [
       "       Country      Status  Life expectancy   Adult Mortality  infant deaths  \\\n",
       "0  Afghanistan  Developing              65.0            263.0             62   \n",
       "1  Afghanistan  Developing              59.9            271.0             64   \n",
       "2  Afghanistan  Developing              59.9            268.0             66   \n",
       "3  Afghanistan  Developing              59.5            272.0             69   \n",
       "4  Afghanistan  Developing              59.2            275.0             71   \n",
       "\n",
       "   Alcohol   BMI   under-five deaths    HIV/AIDS   thinness  1-19 years  \\\n",
       "0     0.01   19.1                  83        0.1                   17.2   \n",
       "1     0.01   18.6                  86        0.1                   17.5   \n",
       "2     0.01   18.1                  89        0.1                   17.7   \n",
       "3     0.01   17.6                  93        0.1                   17.9   \n",
       "4     0.01   17.2                  97        0.1                   18.2   \n",
       "\n",
       "    thinness 5-9 years  Income composition of resources  Schooling  \n",
       "0                 17.3                            0.479       10.1  \n",
       "1                 17.5                            0.476       10.0  \n",
       "2                 17.7                            0.470        9.9  \n",
       "3                 18.0                            0.463        9.8  \n",
       "4                 18.2                            0.454        9.5  "
      ]
     },
     "execution_count": 16,
     "metadata": {},
     "output_type": "execute_result"
    }
   ],
   "source": [
    "# eliminate low mi scores\n",
    "clean_data.drop(columns = mi_scores.index[10:], inplace = True)\n",
    "clean_data.head()"
   ]
  },
  {
   "cell_type": "code",
   "execution_count": 17,
   "id": "b91c4e75",
   "metadata": {},
   "outputs": [],
   "source": [
    "y = clean_data.pop(\"Life expectancy \")\n",
    "x = clean_data"
   ]
  },
  {
   "cell_type": "markdown",
   "id": "84001233",
   "metadata": {},
   "source": [
    "There are categorical columns existing in our dataset. Lets convert them into non string value\n",
    "\n",
    "by doing one hot encoding."
   ]
  },
  {
   "cell_type": "code",
   "execution_count": 18,
   "id": "44580a6e",
   "metadata": {},
   "outputs": [
    {
     "name": "stdout",
     "output_type": "stream",
     "text": [
      "[[1. 0. 0. ... 0. 0. 1.]\n",
      " [1. 0. 0. ... 0. 0. 1.]\n",
      " [1. 0. 0. ... 0. 0. 1.]\n",
      " ...\n",
      " [0. 0. 0. ... 1. 0. 1.]\n",
      " [0. 0. 0. ... 1. 0. 1.]\n",
      " [0. 0. 0. ... 1. 0. 1.]]\n"
     ]
    }
   ],
   "source": [
    "# one hot encoding\n",
    "ohe = OneHotEncoder(handle_unknown = 'ignore', sparse = False)\n",
    "obj_cols = x.select_dtypes(\"object\")\n",
    "clean_data.drop(columns = obj_cols, inplace = True)\n",
    "\n",
    "ohe_cols = ohe.fit_transform(obj_cols)\n",
    "print(ohe_cols)"
   ]
  },
  {
   "cell_type": "markdown",
   "id": "ab5ccb4e",
   "metadata": {},
   "source": [
    "Next, lets scale the numerical data in our dataset into a reasonable range, 0 - 1."
   ]
  },
  {
   "cell_type": "code",
   "execution_count": 19,
   "id": "2457a11b",
   "metadata": {},
   "outputs": [
    {
     "name": "stdout",
     "output_type": "stream",
     "text": [
      "[[0.36288089 0.03444444 0.         ... 0.60350877 0.50527426 0.48792271]\n",
      " [0.37396122 0.03555556 0.         ... 0.61052632 0.5021097  0.48309179]\n",
      " [0.36980609 0.03666667 0.         ... 0.61754386 0.49578059 0.47826087]\n",
      " ...\n",
      " [0.09972299 0.01388889 0.2474804  ... 0.04210526 0.45042194 0.48309179]\n",
      " [0.94875346 0.01388889 0.09574468 ... 0.05614035 0.45042194 0.47342995]\n",
      " [0.91966759 0.01333333 0.09350504 ... 0.38947368 0.45780591 0.47342995]]\n"
     ]
    }
   ],
   "source": [
    "scaler = MinMaxScaler()\n",
    "scale_feature = clean_data.select_dtypes(exclude = \"object\")\n",
    "scaled = scaler.fit_transform(scale_feature)\n",
    "print(scaled)"
   ]
  },
  {
   "cell_type": "code",
   "execution_count": 20,
   "id": "c5a01be3",
   "metadata": {
    "scrolled": true
   },
   "outputs": [
    {
     "data": {
      "text/html": [
       "<div>\n",
       "<style scoped>\n",
       "    .dataframe tbody tr th:only-of-type {\n",
       "        vertical-align: middle;\n",
       "    }\n",
       "\n",
       "    .dataframe tbody tr th {\n",
       "        vertical-align: top;\n",
       "    }\n",
       "\n",
       "    .dataframe thead th {\n",
       "        text-align: right;\n",
       "    }\n",
       "</style>\n",
       "<table border=\"1\" class=\"dataframe\">\n",
       "  <thead>\n",
       "    <tr style=\"text-align: right;\">\n",
       "      <th></th>\n",
       "      <th>Adult Mortality</th>\n",
       "      <th>infant deaths</th>\n",
       "      <th>Alcohol</th>\n",
       "      <th>BMI</th>\n",
       "      <th>under-five deaths</th>\n",
       "      <th>HIV/AIDS</th>\n",
       "      <th>thinness  1-19 years</th>\n",
       "      <th>thinness 5-9 years</th>\n",
       "      <th>Income composition of resources</th>\n",
       "      <th>Schooling</th>\n",
       "      <th>...</th>\n",
       "      <th>175</th>\n",
       "      <th>176</th>\n",
       "      <th>177</th>\n",
       "      <th>178</th>\n",
       "      <th>179</th>\n",
       "      <th>180</th>\n",
       "      <th>181</th>\n",
       "      <th>182</th>\n",
       "      <th>183</th>\n",
       "      <th>184</th>\n",
       "    </tr>\n",
       "  </thead>\n",
       "  <tbody>\n",
       "    <tr>\n",
       "      <th>0</th>\n",
       "      <td>0.362881</td>\n",
       "      <td>0.034444</td>\n",
       "      <td>0.000000</td>\n",
       "      <td>0.236292</td>\n",
       "      <td>0.0332</td>\n",
       "      <td>0.000000</td>\n",
       "      <td>0.619565</td>\n",
       "      <td>0.603509</td>\n",
       "      <td>0.505274</td>\n",
       "      <td>0.487923</td>\n",
       "      <td>...</td>\n",
       "      <td>0.0</td>\n",
       "      <td>0.0</td>\n",
       "      <td>0.0</td>\n",
       "      <td>0.0</td>\n",
       "      <td>0.0</td>\n",
       "      <td>0.0</td>\n",
       "      <td>0.0</td>\n",
       "      <td>0.0</td>\n",
       "      <td>0.0</td>\n",
       "      <td>1.0</td>\n",
       "    </tr>\n",
       "    <tr>\n",
       "      <th>1</th>\n",
       "      <td>0.373961</td>\n",
       "      <td>0.035556</td>\n",
       "      <td>0.000000</td>\n",
       "      <td>0.229765</td>\n",
       "      <td>0.0344</td>\n",
       "      <td>0.000000</td>\n",
       "      <td>0.630435</td>\n",
       "      <td>0.610526</td>\n",
       "      <td>0.502110</td>\n",
       "      <td>0.483092</td>\n",
       "      <td>...</td>\n",
       "      <td>0.0</td>\n",
       "      <td>0.0</td>\n",
       "      <td>0.0</td>\n",
       "      <td>0.0</td>\n",
       "      <td>0.0</td>\n",
       "      <td>0.0</td>\n",
       "      <td>0.0</td>\n",
       "      <td>0.0</td>\n",
       "      <td>0.0</td>\n",
       "      <td>1.0</td>\n",
       "    </tr>\n",
       "    <tr>\n",
       "      <th>2</th>\n",
       "      <td>0.369806</td>\n",
       "      <td>0.036667</td>\n",
       "      <td>0.000000</td>\n",
       "      <td>0.223238</td>\n",
       "      <td>0.0356</td>\n",
       "      <td>0.000000</td>\n",
       "      <td>0.637681</td>\n",
       "      <td>0.617544</td>\n",
       "      <td>0.495781</td>\n",
       "      <td>0.478261</td>\n",
       "      <td>...</td>\n",
       "      <td>0.0</td>\n",
       "      <td>0.0</td>\n",
       "      <td>0.0</td>\n",
       "      <td>0.0</td>\n",
       "      <td>0.0</td>\n",
       "      <td>0.0</td>\n",
       "      <td>0.0</td>\n",
       "      <td>0.0</td>\n",
       "      <td>0.0</td>\n",
       "      <td>1.0</td>\n",
       "    </tr>\n",
       "    <tr>\n",
       "      <th>3</th>\n",
       "      <td>0.375346</td>\n",
       "      <td>0.038333</td>\n",
       "      <td>0.000000</td>\n",
       "      <td>0.216710</td>\n",
       "      <td>0.0372</td>\n",
       "      <td>0.000000</td>\n",
       "      <td>0.644928</td>\n",
       "      <td>0.628070</td>\n",
       "      <td>0.488397</td>\n",
       "      <td>0.473430</td>\n",
       "      <td>...</td>\n",
       "      <td>0.0</td>\n",
       "      <td>0.0</td>\n",
       "      <td>0.0</td>\n",
       "      <td>0.0</td>\n",
       "      <td>0.0</td>\n",
       "      <td>0.0</td>\n",
       "      <td>0.0</td>\n",
       "      <td>0.0</td>\n",
       "      <td>0.0</td>\n",
       "      <td>1.0</td>\n",
       "    </tr>\n",
       "    <tr>\n",
       "      <th>4</th>\n",
       "      <td>0.379501</td>\n",
       "      <td>0.039444</td>\n",
       "      <td>0.000000</td>\n",
       "      <td>0.211488</td>\n",
       "      <td>0.0388</td>\n",
       "      <td>0.000000</td>\n",
       "      <td>0.655797</td>\n",
       "      <td>0.635088</td>\n",
       "      <td>0.478903</td>\n",
       "      <td>0.458937</td>\n",
       "      <td>...</td>\n",
       "      <td>0.0</td>\n",
       "      <td>0.0</td>\n",
       "      <td>0.0</td>\n",
       "      <td>0.0</td>\n",
       "      <td>0.0</td>\n",
       "      <td>0.0</td>\n",
       "      <td>0.0</td>\n",
       "      <td>0.0</td>\n",
       "      <td>0.0</td>\n",
       "      <td>1.0</td>\n",
       "    </tr>\n",
       "    <tr>\n",
       "      <th>...</th>\n",
       "      <td>...</td>\n",
       "      <td>...</td>\n",
       "      <td>...</td>\n",
       "      <td>...</td>\n",
       "      <td>...</td>\n",
       "      <td>...</td>\n",
       "      <td>...</td>\n",
       "      <td>...</td>\n",
       "      <td>...</td>\n",
       "      <td>...</td>\n",
       "      <td>...</td>\n",
       "      <td>...</td>\n",
       "      <td>...</td>\n",
       "      <td>...</td>\n",
       "      <td>...</td>\n",
       "      <td>...</td>\n",
       "      <td>...</td>\n",
       "      <td>...</td>\n",
       "      <td>...</td>\n",
       "      <td>...</td>\n",
       "      <td>...</td>\n",
       "    </tr>\n",
       "    <tr>\n",
       "      <th>2923</th>\n",
       "      <td>1.000000</td>\n",
       "      <td>0.015000</td>\n",
       "      <td>0.243561</td>\n",
       "      <td>0.340731</td>\n",
       "      <td>0.0168</td>\n",
       "      <td>0.663366</td>\n",
       "      <td>0.336957</td>\n",
       "      <td>0.326316</td>\n",
       "      <td>0.429325</td>\n",
       "      <td>0.444444</td>\n",
       "      <td>...</td>\n",
       "      <td>0.0</td>\n",
       "      <td>0.0</td>\n",
       "      <td>0.0</td>\n",
       "      <td>0.0</td>\n",
       "      <td>0.0</td>\n",
       "      <td>0.0</td>\n",
       "      <td>0.0</td>\n",
       "      <td>1.0</td>\n",
       "      <td>0.0</td>\n",
       "      <td>1.0</td>\n",
       "    </tr>\n",
       "    <tr>\n",
       "      <th>2924</th>\n",
       "      <td>0.988920</td>\n",
       "      <td>0.014444</td>\n",
       "      <td>0.226764</td>\n",
       "      <td>0.335509</td>\n",
       "      <td>0.0164</td>\n",
       "      <td>0.724752</td>\n",
       "      <td>0.351449</td>\n",
       "      <td>0.343860</td>\n",
       "      <td>0.440928</td>\n",
       "      <td>0.458937</td>\n",
       "      <td>...</td>\n",
       "      <td>0.0</td>\n",
       "      <td>0.0</td>\n",
       "      <td>0.0</td>\n",
       "      <td>0.0</td>\n",
       "      <td>0.0</td>\n",
       "      <td>0.0</td>\n",
       "      <td>0.0</td>\n",
       "      <td>1.0</td>\n",
       "      <td>0.0</td>\n",
       "      <td>1.0</td>\n",
       "    </tr>\n",
       "    <tr>\n",
       "      <th>2925</th>\n",
       "      <td>0.099723</td>\n",
       "      <td>0.013889</td>\n",
       "      <td>0.247480</td>\n",
       "      <td>0.330287</td>\n",
       "      <td>0.0160</td>\n",
       "      <td>0.786139</td>\n",
       "      <td>0.039855</td>\n",
       "      <td>0.042105</td>\n",
       "      <td>0.450422</td>\n",
       "      <td>0.483092</td>\n",
       "      <td>...</td>\n",
       "      <td>0.0</td>\n",
       "      <td>0.0</td>\n",
       "      <td>0.0</td>\n",
       "      <td>0.0</td>\n",
       "      <td>0.0</td>\n",
       "      <td>0.0</td>\n",
       "      <td>0.0</td>\n",
       "      <td>1.0</td>\n",
       "      <td>0.0</td>\n",
       "      <td>1.0</td>\n",
       "    </tr>\n",
       "    <tr>\n",
       "      <th>2926</th>\n",
       "      <td>0.948753</td>\n",
       "      <td>0.013889</td>\n",
       "      <td>0.095745</td>\n",
       "      <td>0.325065</td>\n",
       "      <td>0.0156</td>\n",
       "      <td>0.831683</td>\n",
       "      <td>0.054348</td>\n",
       "      <td>0.056140</td>\n",
       "      <td>0.450422</td>\n",
       "      <td>0.473430</td>\n",
       "      <td>...</td>\n",
       "      <td>0.0</td>\n",
       "      <td>0.0</td>\n",
       "      <td>0.0</td>\n",
       "      <td>0.0</td>\n",
       "      <td>0.0</td>\n",
       "      <td>0.0</td>\n",
       "      <td>0.0</td>\n",
       "      <td>1.0</td>\n",
       "      <td>0.0</td>\n",
       "      <td>1.0</td>\n",
       "    </tr>\n",
       "    <tr>\n",
       "      <th>2927</th>\n",
       "      <td>0.919668</td>\n",
       "      <td>0.013333</td>\n",
       "      <td>0.093505</td>\n",
       "      <td>0.319843</td>\n",
       "      <td>0.0156</td>\n",
       "      <td>0.859406</td>\n",
       "      <td>0.394928</td>\n",
       "      <td>0.389474</td>\n",
       "      <td>0.457806</td>\n",
       "      <td>0.473430</td>\n",
       "      <td>...</td>\n",
       "      <td>0.0</td>\n",
       "      <td>0.0</td>\n",
       "      <td>0.0</td>\n",
       "      <td>0.0</td>\n",
       "      <td>0.0</td>\n",
       "      <td>0.0</td>\n",
       "      <td>0.0</td>\n",
       "      <td>1.0</td>\n",
       "      <td>0.0</td>\n",
       "      <td>1.0</td>\n",
       "    </tr>\n",
       "  </tbody>\n",
       "</table>\n",
       "<p>2928 rows × 195 columns</p>\n",
       "</div>"
      ],
      "text/plain": [
       "      Adult Mortality  infant deaths   Alcohol      BMI   under-five deaths   \\\n",
       "0            0.362881       0.034444  0.000000  0.236292              0.0332   \n",
       "1            0.373961       0.035556  0.000000  0.229765              0.0344   \n",
       "2            0.369806       0.036667  0.000000  0.223238              0.0356   \n",
       "3            0.375346       0.038333  0.000000  0.216710              0.0372   \n",
       "4            0.379501       0.039444  0.000000  0.211488              0.0388   \n",
       "...               ...            ...       ...       ...                 ...   \n",
       "2923         1.000000       0.015000  0.243561  0.340731              0.0168   \n",
       "2924         0.988920       0.014444  0.226764  0.335509              0.0164   \n",
       "2925         0.099723       0.013889  0.247480  0.330287              0.0160   \n",
       "2926         0.948753       0.013889  0.095745  0.325065              0.0156   \n",
       "2927         0.919668       0.013333  0.093505  0.319843              0.0156   \n",
       "\n",
       "       HIV/AIDS   thinness  1-19 years   thinness 5-9 years  \\\n",
       "0      0.000000               0.619565             0.603509   \n",
       "1      0.000000               0.630435             0.610526   \n",
       "2      0.000000               0.637681             0.617544   \n",
       "3      0.000000               0.644928             0.628070   \n",
       "4      0.000000               0.655797             0.635088   \n",
       "...         ...                    ...                  ...   \n",
       "2923   0.663366               0.336957             0.326316   \n",
       "2924   0.724752               0.351449             0.343860   \n",
       "2925   0.786139               0.039855             0.042105   \n",
       "2926   0.831683               0.054348             0.056140   \n",
       "2927   0.859406               0.394928             0.389474   \n",
       "\n",
       "      Income composition of resources  Schooling  ...  175  176  177  178  \\\n",
       "0                            0.505274   0.487923  ...  0.0  0.0  0.0  0.0   \n",
       "1                            0.502110   0.483092  ...  0.0  0.0  0.0  0.0   \n",
       "2                            0.495781   0.478261  ...  0.0  0.0  0.0  0.0   \n",
       "3                            0.488397   0.473430  ...  0.0  0.0  0.0  0.0   \n",
       "4                            0.478903   0.458937  ...  0.0  0.0  0.0  0.0   \n",
       "...                               ...        ...  ...  ...  ...  ...  ...   \n",
       "2923                         0.429325   0.444444  ...  0.0  0.0  0.0  0.0   \n",
       "2924                         0.440928   0.458937  ...  0.0  0.0  0.0  0.0   \n",
       "2925                         0.450422   0.483092  ...  0.0  0.0  0.0  0.0   \n",
       "2926                         0.450422   0.473430  ...  0.0  0.0  0.0  0.0   \n",
       "2927                         0.457806   0.473430  ...  0.0  0.0  0.0  0.0   \n",
       "\n",
       "      179  180  181  182  183  184  \n",
       "0     0.0  0.0  0.0  0.0  0.0  1.0  \n",
       "1     0.0  0.0  0.0  0.0  0.0  1.0  \n",
       "2     0.0  0.0  0.0  0.0  0.0  1.0  \n",
       "3     0.0  0.0  0.0  0.0  0.0  1.0  \n",
       "4     0.0  0.0  0.0  0.0  0.0  1.0  \n",
       "...   ...  ...  ...  ...  ...  ...  \n",
       "2923  0.0  0.0  0.0  1.0  0.0  1.0  \n",
       "2924  0.0  0.0  0.0  1.0  0.0  1.0  \n",
       "2925  0.0  0.0  0.0  1.0  0.0  1.0  \n",
       "2926  0.0  0.0  0.0  1.0  0.0  1.0  \n",
       "2927  0.0  0.0  0.0  1.0  0.0  1.0  \n",
       "\n",
       "[2928 rows x 195 columns]"
      ]
     },
     "execution_count": 20,
     "metadata": {},
     "output_type": "execute_result"
    }
   ],
   "source": [
    "# append onehotencoding and scaled data\n",
    "cols_name = clean_data.columns\n",
    "\n",
    "scaled_df = pd.DataFrame(scaled, columns = cols_name)\n",
    "x = pd.concat((scaled_df, pd.DataFrame(ohe_cols)),axis = 1)\n",
    "x"
   ]
  },
  {
   "cell_type": "markdown",
   "id": "2a2c4e00",
   "metadata": {},
   "source": [
    "Lets convert y into three categories.\n",
    "\n",
    "0 - low life expectancy\n",
    "\n",
    "1 - moderate life expectancy\n",
    "\n",
    "2 - high life expectancy"
   ]
  },
  {
   "cell_type": "code",
   "execution_count": 21,
   "id": "44187813",
   "metadata": {},
   "outputs": [
    {
     "data": {
      "text/plain": [
       "array([1, 2, 0], dtype=int64)"
      ]
     },
     "execution_count": 21,
     "metadata": {},
     "output_type": "execute_result"
    }
   ],
   "source": [
    "# turn y into scaled output\n",
    "Y = y.map(lambda value: 0 if value <= y.max()*0.5 else (\n",
    "          1 if value > y.max()*0.5 and value <= y.max()*0.8 else 2))\n",
    "Y.unique()"
   ]
  },
  {
   "cell_type": "markdown",
   "id": "9a83f450",
   "metadata": {},
   "source": [
    "Lets split the data into train and test and start building our model for training."
   ]
  },
  {
   "cell_type": "code",
   "execution_count": 22,
   "id": "fe6e7e0c",
   "metadata": {},
   "outputs": [],
   "source": [
    "# split train and test\n",
    "x_train, x_test, y_train, y_test = train_test_split(x, Y, test_size = 0.1, random_state = 10)"
   ]
  },
  {
   "cell_type": "markdown",
   "id": "66b81076",
   "metadata": {},
   "source": [
    "Perform Cross Validation to select the parameter C - the tolerance for misclassification value"
   ]
  },
  {
   "cell_type": "code",
   "execution_count": 48,
   "id": "c8f3d11d",
   "metadata": {},
   "outputs": [
    {
     "data": {
      "text/plain": [
       "GridSearchCV(cv=10, estimator=SVC(),\n",
       "             param_grid={'C': [1, 5, 10, 20], 'gamma': ['auto', 'scale']})"
      ]
     },
     "execution_count": 48,
     "metadata": {},
     "output_type": "execute_result"
    }
   ],
   "source": [
    "# define parameter\n",
    "param_grid = {\n",
    "    'C' : [1,5,10,20],\n",
    "    'gamma' : ['auto','scale']\n",
    "}\n",
    "\n",
    "#cross validation - 10 folds for cv\n",
    "svc = SVC(kernel = \"rbf\")\n",
    "GSC = GridSearchCV(svc, param_grid, cv = 10)\n",
    "GSC.fit(x_train, y_train)"
   ]
  },
  {
   "cell_type": "code",
   "execution_count": 49,
   "id": "4d466ce5",
   "metadata": {},
   "outputs": [
    {
     "data": {
      "text/html": [
       "<div>\n",
       "<style scoped>\n",
       "    .dataframe tbody tr th:only-of-type {\n",
       "        vertical-align: middle;\n",
       "    }\n",
       "\n",
       "    .dataframe tbody tr th {\n",
       "        vertical-align: top;\n",
       "    }\n",
       "\n",
       "    .dataframe thead th {\n",
       "        text-align: right;\n",
       "    }\n",
       "</style>\n",
       "<table border=\"1\" class=\"dataframe\">\n",
       "  <thead>\n",
       "    <tr style=\"text-align: right;\">\n",
       "      <th></th>\n",
       "      <th>model</th>\n",
       "      <th>best_score</th>\n",
       "      <th>best_params</th>\n",
       "    </tr>\n",
       "  </thead>\n",
       "  <tbody>\n",
       "    <tr>\n",
       "      <th>0</th>\n",
       "      <td>RandomForest</td>\n",
       "      <td>0.955981</td>\n",
       "      <td>{'C': 20, 'gamma': 'scale'}</td>\n",
       "    </tr>\n",
       "  </tbody>\n",
       "</table>\n",
       "</div>"
      ],
      "text/plain": [
       "          model  best_score                  best_params\n",
       "0  RandomForest    0.955981  {'C': 20, 'gamma': 'scale'}"
      ]
     },
     "execution_count": 49,
     "metadata": {},
     "output_type": "execute_result"
    }
   ],
   "source": [
    "scores = []\n",
    "scores.append({\n",
    "    'model': \"RandomForest\",\n",
    "    'best_score': GSC.best_score_,\n",
    "    'best_params': GSC.best_params_\n",
    "})\n",
    "\n",
    "score_df = pd.DataFrame(scores, columns = ['model', 'best_score', 'best_params'])\n",
    "score_df.head()"
   ]
  },
  {
   "cell_type": "markdown",
   "id": "a8848c8c",
   "metadata": {},
   "source": [
    "The result from the grid search cross validation shows that parameter c with 20 and gamma with scale \n",
    "\n",
    "obtained the best result hence we will use the same settings to build our final model and train it."
   ]
  },
  {
   "cell_type": "markdown",
   "id": "43fbb3d4",
   "metadata": {},
   "source": [
    "In this case, we will try Boosting and Bagging and algorithms along with  Support Vector Machine\n",
    "\n",
    "and select the best algorithm that return highest score."
   ]
  },
  {
   "cell_type": "code",
   "execution_count": 52,
   "id": "9da50f62",
   "metadata": {},
   "outputs": [],
   "source": [
    "svc = SVC(C = 20, gamma = \"scale\", kernel = \"rbf\")\n",
    "ADA = AdaBoostClassifier(svc, n_estimators = 10, algorithm = 'SAMME', learning_rate = 1.0)\n",
    "BAG = BaggingClassifier(svc, n_estimators = 5, max_samples = 0.5)"
   ]
  },
  {
   "cell_type": "code",
   "execution_count": 53,
   "id": "e60bf6d9",
   "metadata": {},
   "outputs": [
    {
     "data": {
      "text/plain": [
       "BaggingClassifier(base_estimator=SVC(C=20), max_samples=0.5, n_estimators=5)"
      ]
     },
     "execution_count": 53,
     "metadata": {},
     "output_type": "execute_result"
    }
   ],
   "source": [
    "ADA.fit(x_train, y_train)\n",
    "BAG.fit(x_train, y_train)"
   ]
  },
  {
   "cell_type": "code",
   "execution_count": 54,
   "id": "d4546461",
   "metadata": {},
   "outputs": [
    {
     "name": "stdout",
     "output_type": "stream",
     "text": [
      "Boosting Accuracy : 0.7952218430034129\n",
      "Bagging Accuracy : 0.9419795221843004\n"
     ]
    }
   ],
   "source": [
    "from sklearn.metrics import accuracy_score\n",
    "\n",
    "y_pred_ada = ADA.predict(x_test)\n",
    "y_pred_bag = BAG.predict(x_test)\n",
    "print(\"Boosting Accuracy : {}\\nBagging Accuracy : {}\".format(accuracy_score(y_test,y_pred_ada),\n",
    "                                                             accuracy_score(y_test,y_pred_bag)))"
   ]
  },
  {
   "cell_type": "markdown",
   "id": "b13875d9",
   "metadata": {},
   "source": [
    "As the accuracy result shown above, bagging seems to have better result as compared\n",
    "\n",
    "to boosting, so it wil be our final model."
   ]
  }
 ],
 "metadata": {
  "kernelspec": {
   "display_name": "Python 3 (ipykernel)",
   "language": "python",
   "name": "python3"
  },
  "language_info": {
   "codemirror_mode": {
    "name": "ipython",
    "version": 3
   },
   "file_extension": ".py",
   "mimetype": "text/x-python",
   "name": "python",
   "nbconvert_exporter": "python",
   "pygments_lexer": "ipython3",
   "version": "3.9.7"
  }
 },
 "nbformat": 4,
 "nbformat_minor": 5
}
