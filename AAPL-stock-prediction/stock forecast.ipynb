{
 "cells": [
  {
   "cell_type": "code",
   "execution_count": 127,
   "metadata": {},
   "outputs": [],
   "source": [
    "import pandas as pd\n",
    "import matplotlib.pyplot as plt\n",
    "from sklearn.preprocessing import MinMaxScaler\n",
    "import numpy as np\n",
    "from tensorflow.keras.models import Sequential\n",
    "from tensorflow.keras.layers import Dense,Dropout,LSTM,BatchNormalization\n",
    "from tensorflow.keras.callbacks import TensorBoard,ModelCheckpoint\n",
    "from tensorflow.keras.optimizers import Adam\n",
    "from tensorflow.keras.models import load_model"
   ]
  },
  {
   "cell_type": "code",
   "execution_count": 2,
   "metadata": {},
   "outputs": [],
   "source": [
    "df = pd.read_csv('AAPL.csv')"
   ]
  },
  {
   "cell_type": "code",
   "execution_count": 4,
   "metadata": {},
   "outputs": [
    {
     "data": {
      "text/html": [
       "<div>\n",
       "<style scoped>\n",
       "    .dataframe tbody tr th:only-of-type {\n",
       "        vertical-align: middle;\n",
       "    }\n",
       "\n",
       "    .dataframe tbody tr th {\n",
       "        vertical-align: top;\n",
       "    }\n",
       "\n",
       "    .dataframe thead th {\n",
       "        text-align: right;\n",
       "    }\n",
       "</style>\n",
       "<table border=\"1\" class=\"dataframe\">\n",
       "  <thead>\n",
       "    <tr style=\"text-align: right;\">\n",
       "      <th></th>\n",
       "      <th>Unnamed: 0</th>\n",
       "      <th>symbol</th>\n",
       "      <th>date</th>\n",
       "      <th>close</th>\n",
       "      <th>high</th>\n",
       "      <th>low</th>\n",
       "      <th>open</th>\n",
       "      <th>volume</th>\n",
       "      <th>adjClose</th>\n",
       "      <th>adjHigh</th>\n",
       "      <th>adjLow</th>\n",
       "      <th>adjOpen</th>\n",
       "      <th>adjVolume</th>\n",
       "      <th>divCash</th>\n",
       "      <th>splitFactor</th>\n",
       "    </tr>\n",
       "  </thead>\n",
       "  <tbody>\n",
       "    <tr>\n",
       "      <th>0</th>\n",
       "      <td>0</td>\n",
       "      <td>AAPL</td>\n",
       "      <td>2015-05-27 00:00:00+00:00</td>\n",
       "      <td>132.045</td>\n",
       "      <td>132.260</td>\n",
       "      <td>130.05</td>\n",
       "      <td>130.34</td>\n",
       "      <td>45833246</td>\n",
       "      <td>121.682558</td>\n",
       "      <td>121.880685</td>\n",
       "      <td>119.844118</td>\n",
       "      <td>120.111360</td>\n",
       "      <td>45833246</td>\n",
       "      <td>0.0</td>\n",
       "      <td>1.0</td>\n",
       "    </tr>\n",
       "    <tr>\n",
       "      <th>1</th>\n",
       "      <td>1</td>\n",
       "      <td>AAPL</td>\n",
       "      <td>2015-05-28 00:00:00+00:00</td>\n",
       "      <td>131.780</td>\n",
       "      <td>131.950</td>\n",
       "      <td>131.10</td>\n",
       "      <td>131.86</td>\n",
       "      <td>30733309</td>\n",
       "      <td>121.438354</td>\n",
       "      <td>121.595013</td>\n",
       "      <td>120.811718</td>\n",
       "      <td>121.512076</td>\n",
       "      <td>30733309</td>\n",
       "      <td>0.0</td>\n",
       "      <td>1.0</td>\n",
       "    </tr>\n",
       "    <tr>\n",
       "      <th>2</th>\n",
       "      <td>2</td>\n",
       "      <td>AAPL</td>\n",
       "      <td>2015-05-29 00:00:00+00:00</td>\n",
       "      <td>130.280</td>\n",
       "      <td>131.450</td>\n",
       "      <td>129.90</td>\n",
       "      <td>131.23</td>\n",
       "      <td>50884452</td>\n",
       "      <td>120.056069</td>\n",
       "      <td>121.134251</td>\n",
       "      <td>119.705890</td>\n",
       "      <td>120.931516</td>\n",
       "      <td>50884452</td>\n",
       "      <td>0.0</td>\n",
       "      <td>1.0</td>\n",
       "    </tr>\n",
       "    <tr>\n",
       "      <th>3</th>\n",
       "      <td>3</td>\n",
       "      <td>AAPL</td>\n",
       "      <td>2015-06-01 00:00:00+00:00</td>\n",
       "      <td>130.535</td>\n",
       "      <td>131.390</td>\n",
       "      <td>130.05</td>\n",
       "      <td>131.20</td>\n",
       "      <td>32112797</td>\n",
       "      <td>120.291057</td>\n",
       "      <td>121.078960</td>\n",
       "      <td>119.844118</td>\n",
       "      <td>120.903870</td>\n",
       "      <td>32112797</td>\n",
       "      <td>0.0</td>\n",
       "      <td>1.0</td>\n",
       "    </tr>\n",
       "    <tr>\n",
       "      <th>4</th>\n",
       "      <td>4</td>\n",
       "      <td>AAPL</td>\n",
       "      <td>2015-06-02 00:00:00+00:00</td>\n",
       "      <td>129.960</td>\n",
       "      <td>130.655</td>\n",
       "      <td>129.32</td>\n",
       "      <td>129.86</td>\n",
       "      <td>33667627</td>\n",
       "      <td>119.761181</td>\n",
       "      <td>120.401640</td>\n",
       "      <td>119.171406</td>\n",
       "      <td>119.669029</td>\n",
       "      <td>33667627</td>\n",
       "      <td>0.0</td>\n",
       "      <td>1.0</td>\n",
       "    </tr>\n",
       "  </tbody>\n",
       "</table>\n",
       "</div>"
      ],
      "text/plain": [
       "   Unnamed: 0 symbol                       date    close     high     low  \\\n",
       "0           0   AAPL  2015-05-27 00:00:00+00:00  132.045  132.260  130.05   \n",
       "1           1   AAPL  2015-05-28 00:00:00+00:00  131.780  131.950  131.10   \n",
       "2           2   AAPL  2015-05-29 00:00:00+00:00  130.280  131.450  129.90   \n",
       "3           3   AAPL  2015-06-01 00:00:00+00:00  130.535  131.390  130.05   \n",
       "4           4   AAPL  2015-06-02 00:00:00+00:00  129.960  130.655  129.32   \n",
       "\n",
       "     open    volume    adjClose     adjHigh      adjLow     adjOpen  \\\n",
       "0  130.34  45833246  121.682558  121.880685  119.844118  120.111360   \n",
       "1  131.86  30733309  121.438354  121.595013  120.811718  121.512076   \n",
       "2  131.23  50884452  120.056069  121.134251  119.705890  120.931516   \n",
       "3  131.20  32112797  120.291057  121.078960  119.844118  120.903870   \n",
       "4  129.86  33667627  119.761181  120.401640  119.171406  119.669029   \n",
       "\n",
       "   adjVolume  divCash  splitFactor  \n",
       "0   45833246      0.0          1.0  \n",
       "1   30733309      0.0          1.0  \n",
       "2   50884452      0.0          1.0  \n",
       "3   32112797      0.0          1.0  \n",
       "4   33667627      0.0          1.0  "
      ]
     },
     "execution_count": 4,
     "metadata": {},
     "output_type": "execute_result"
    }
   ],
   "source": [
    "df.head()"
   ]
  },
  {
   "cell_type": "code",
   "execution_count": 45,
   "metadata": {
    "scrolled": true
   },
   "outputs": [
    {
     "data": {
      "text/plain": [
       "[<matplotlib.lines.Line2D at 0x27f31ffd6a0>]"
      ]
     },
     "execution_count": 45,
     "metadata": {},
     "output_type": "execute_result"
    },
    {
     "data": {
      "image/png": "[encoded data removed]",
      "text/plain": [
       "<Figure size 432x288 with 1 Axes>"
      ]
     },
     "metadata": {
      "needs_background": "light"
     },
     "output_type": "display_data"
    }
   ],
   "source": [
    "# use stock close price data for model\n",
    "df1 = df.reset_index()['close']\n",
    "plt.plot(df1)"
   ]
  },
  {
   "cell_type": "markdown",
   "metadata": {},
   "source": [
    "Data Preprocessing"
   ]
  },
  {
   "cell_type": "code",
   "execution_count": 46,
   "metadata": {},
   "outputs": [],
   "source": [
    "# scale data\n",
    "scaler = MinMaxScaler(feature_range = (0,1))\n",
    "df1 = scaler.fit_transform(np.array(df1).reshape(df1.shape[0],-1))"
   ]
  },
  {
   "cell_type": "code",
   "execution_count": 56,
   "metadata": {},
   "outputs": [],
   "source": [
    "# split into in sample and out of sample\n",
    "training_size = int(len(df1)*0.8)\n",
    "test_size = len(df1) - training_size\n",
    "train_data, test_data = df1[:training_size,:], df1[training_size:len(df1),:]"
   ]
  },
  {
   "cell_type": "code",
   "execution_count": 167,
   "metadata": {},
   "outputs": [
    {
     "data": {
      "text/plain": [
       "(1006, 1)"
      ]
     },
     "execution_count": 167,
     "metadata": {},
     "output_type": "execute_result"
    }
   ],
   "source": [
    "train_data.shape"
   ]
  },
  {
   "cell_type": "code",
   "execution_count": 102,
   "metadata": {},
   "outputs": [],
   "source": [
    "# create dataset\n",
    "# e.g. [100,200,300,400] -> [200,300,400,...] \n",
    "def create_dataset(dataset, time_step=1):\n",
    "    dataX, dataY = [], []\n",
    "    for i in range(len(dataset)-time_step):\n",
    "        a = dataset[i:(i+time_step), 0]  \n",
    "        dataX.append(a)\n",
    "        dataY.append(dataset[i + time_step, 0])\n",
    "    return np.array(dataX), np.array(dataY)"
   ]
  },
  {
   "cell_type": "code",
   "execution_count": 103,
   "metadata": {},
   "outputs": [],
   "source": [
    "time_step = 100\n",
    "x_train, y_train = create_dataset(train_data, time_step)\n",
    "x_test, y_test = create_dataset(test_data, time_step)"
   ]
  },
  {
   "cell_type": "code",
   "execution_count": 438,
   "metadata": {},
   "outputs": [
    {
     "data": {
      "text/plain": [
       "((906, 100, 1), (906,))"
      ]
     },
     "execution_count": 438,
     "metadata": {},
     "output_type": "execute_result"
    }
   ],
   "source": [
    "x_train.shape, y_train.shape"
   ]
  },
  {
   "cell_type": "code",
   "execution_count": 126,
   "metadata": {},
   "outputs": [],
   "source": [
    "# reshape input to be [samples, time steps, features] which is required for LSTM\n",
    "x_train = x_train.reshape(x_train.shape[0],x_train.shape[1] , -1)\n",
    "x_test = x_test.reshape(x_test.shape[0],x_test.shape[1] , -1)"
   ]
  },
  {
   "cell_type": "markdown",
   "metadata": {},
   "source": [
    "Model"
   ]
  },
  {
   "cell_type": "code",
   "execution_count": 129,
   "metadata": {},
   "outputs": [
    {
     "name": "stdout",
     "output_type": "stream",
     "text": [
      "Model: \"sequential_1\"\n",
      "_________________________________________________________________\n",
      "Layer (type)                 Output Shape              Param #   \n",
      "=================================================================\n",
      "lstm_3 (LSTM)                (None, 100, 128)          66560     \n",
      "_________________________________________________________________\n",
      "dropout_3 (Dropout)          (None, 100, 128)          0         \n",
      "_________________________________________________________________\n",
      "batch_normalization_3 (Batch (None, 100, 128)          512       \n",
      "_________________________________________________________________\n",
      "lstm_4 (LSTM)                (None, 100, 128)          131584    \n",
      "_________________________________________________________________\n",
      "dropout_4 (Dropout)          (None, 100, 128)          0         \n",
      "_________________________________________________________________\n",
      "batch_normalization_4 (Batch (None, 100, 128)          512       \n",
      "_________________________________________________________________\n",
      "lstm_5 (LSTM)                (None, 128)               131584    \n",
      "_________________________________________________________________\n",
      "dropout_5 (Dropout)          (None, 128)               0         \n",
      "_________________________________________________________________\n",
      "batch_normalization_5 (Batch (None, 128)               512       \n",
      "_________________________________________________________________\n",
      "dense_1 (Dense)              (None, 32)                4128      \n",
      "_________________________________________________________________\n",
      "dense_2 (Dense)              (None, 1)                 33        \n",
      "=================================================================\n",
      "Total params: 335,425\n",
      "Trainable params: 334,657\n",
      "Non-trainable params: 768\n",
      "_________________________________________________________________\n"
     ]
    }
   ],
   "source": [
    "model=Sequential()\n",
    "model.add(LSTM(128,return_sequences=True,input_shape=(x_train.shape[1:])))\n",
    "model.add(Dropout(0.2))\n",
    "model.add(BatchNormalization())\n",
    "\n",
    "model.add(LSTM(128,return_sequences=True))\n",
    "model.add(Dropout(0.2))\n",
    "model.add(BatchNormalization())\n",
    "\n",
    "model.add(LSTM(128))\n",
    "model.add(Dropout(0.2))\n",
    "model.add(BatchNormalization())\n",
    "\n",
    "model.add(Dense(32, activation = 'relu'))\n",
    "model.add(Dense(1, activation = 'sigmoid'))\n",
    "\n",
    "model.summary()"
   ]
  },
  {
   "cell_type": "code",
   "execution_count": 133,
   "metadata": {},
   "outputs": [],
   "source": [
    "optimizer = Adam(lr=0.001)\n",
    "model.compile(loss = 'mean_squared_error' , optimizer = optimizer, metrics = ['mse'])"
   ]
  },
  {
   "cell_type": "code",
   "execution_count": 134,
   "metadata": {},
   "outputs": [],
   "source": [
    "batch_size = 64\n",
    "epochs = 70"
   ]
  },
  {
   "cell_type": "code",
   "execution_count": 135,
   "metadata": {},
   "outputs": [
    {
     "name": "stdout",
     "output_type": "stream",
     "text": [
      "Train on 906 samples, validate on 152 samples\n",
      "Epoch 1/70\n",
      "906/906 [==============================] - 39s 43ms/sample - loss: 0.0067 - mse: 0.0067 - val_loss: 0.1702 - val_mse: 0.1702\n",
      "Epoch 2/70\n",
      "906/906 [==============================] - 27s 29ms/sample - loss: 0.0053 - mse: 0.0053 - val_loss: 0.1839 - val_mse: 0.1839\n",
      "Epoch 3/70\n",
      "906/906 [==============================] - 27s 30ms/sample - loss: 0.0037 - mse: 0.0037 - val_loss: 0.1985 - val_mse: 0.1985\n",
      "Epoch 4/70\n",
      "906/906 [==============================] - 28s 31ms/sample - loss: 0.0032 - mse: 0.0032 - val_loss: 0.1787 - val_mse: 0.1787\n",
      "Epoch 5/70\n",
      "906/906 [==============================] - 29s 32ms/sample - loss: 0.0031 - mse: 0.0031 - val_loss: 0.1892 - val_mse: 0.1892\n",
      "Epoch 6/70\n",
      "906/906 [==============================] - 30s 33ms/sample - loss: 0.0027 - mse: 0.0027 - val_loss: 0.1825 - val_mse: 0.1825\n",
      "Epoch 7/70\n",
      "906/906 [==============================] - 29s 32ms/sample - loss: 0.0025 - mse: 0.0025 - val_loss: 0.1817 - val_mse: 0.1817\n",
      "Epoch 8/70\n",
      "906/906 [==============================] - 30s 33ms/sample - loss: 0.0030 - mse: 0.0030 - val_loss: 0.1984 - val_mse: 0.1984\n",
      "Epoch 9/70\n",
      "906/906 [==============================] - 30s 33ms/sample - loss: 0.0026 - mse: 0.0026 - val_loss: 0.2185 - val_mse: 0.2185\n",
      "Epoch 10/70\n",
      "906/906 [==============================] - 30s 33ms/sample - loss: 0.0022 - mse: 0.0022 - val_loss: 0.2319 - val_mse: 0.2319\n",
      "Epoch 11/70\n",
      "906/906 [==============================] - 30s 33ms/sample - loss: 0.0023 - mse: 0.0023 - val_loss: 0.2409 - val_mse: 0.2409\n",
      "Epoch 12/70\n",
      "906/906 [==============================] - 30s 33ms/sample - loss: 0.0019 - mse: 0.0019 - val_loss: 0.2435 - val_mse: 0.2435\n",
      "Epoch 13/70\n",
      "906/906 [==============================] - 30s 33ms/sample - loss: 0.0021 - mse: 0.0021 - val_loss: 0.2489 - val_mse: 0.2489\n",
      "Epoch 14/70\n",
      "906/906 [==============================] - 30s 34ms/sample - loss: 0.0018 - mse: 0.0018 - val_loss: 0.2569 - val_mse: 0.2569\n",
      "Epoch 15/70\n",
      "906/906 [==============================] - 30s 33ms/sample - loss: 0.0018 - mse: 0.0018 - val_loss: 0.2283 - val_mse: 0.2283\n",
      "Epoch 16/70\n",
      "906/906 [==============================] - 31s 34ms/sample - loss: 0.0017 - mse: 0.0017 - val_loss: 0.2456 - val_mse: 0.2456\n",
      "Epoch 17/70\n",
      "906/906 [==============================] - 30s 33ms/sample - loss: 0.0017 - mse: 0.0017 - val_loss: 0.2395 - val_mse: 0.2395\n",
      "Epoch 18/70\n",
      "906/906 [==============================] - 32s 35ms/sample - loss: 0.0022 - mse: 0.0022 - val_loss: 0.2181 - val_mse: 0.2181\n",
      "Epoch 19/70\n",
      "906/906 [==============================] - 32s 35ms/sample - loss: 0.0016 - mse: 0.0016 - val_loss: 0.2271 - val_mse: 0.2271\n",
      "Epoch 20/70\n",
      "906/906 [==============================] - 31s 34ms/sample - loss: 0.0016 - mse: 0.0016 - val_loss: 0.2709 - val_mse: 0.2709\n",
      "Epoch 21/70\n",
      "906/906 [==============================] - 30s 33ms/sample - loss: 0.0026 - mse: 0.0026 - val_loss: 0.2385 - val_mse: 0.2385\n",
      "Epoch 22/70\n",
      "906/906 [==============================] - 31s 34ms/sample - loss: 0.0016 - mse: 0.0016 - val_loss: 0.2082 - val_mse: 0.2082\n",
      "Epoch 23/70\n",
      "906/906 [==============================] - 32s 35ms/sample - loss: 0.0015 - mse: 0.0015 - val_loss: 0.1959 - val_mse: 0.1959\n",
      "Epoch 24/70\n",
      "906/906 [==============================] - 31s 35ms/sample - loss: 0.0016 - mse: 0.0016 - val_loss: 0.2360 - val_mse: 0.2360\n",
      "Epoch 25/70\n",
      "906/906 [==============================] - 31s 34ms/sample - loss: 0.0014 - mse: 0.0014 - val_loss: 0.2166 - val_mse: 0.2166\n",
      "Epoch 26/70\n",
      "906/906 [==============================] - 31s 35ms/sample - loss: 0.0015 - mse: 0.0015 - val_loss: 0.2032 - val_mse: 0.2032\n",
      "Epoch 27/70\n",
      "906/906 [==============================] - 31s 35ms/sample - loss: 0.0017 - mse: 0.0017 - val_loss: 0.1857 - val_mse: 0.1857\n",
      "Epoch 28/70\n",
      "906/906 [==============================] - 32s 35ms/sample - loss: 0.0013 - mse: 0.0013 - val_loss: 0.1962 - val_mse: 0.1962\n",
      "Epoch 29/70\n",
      "906/906 [==============================] - 32s 36ms/sample - loss: 0.0011 - mse: 0.0011 - val_loss: 0.1810 - val_mse: 0.1810\n",
      "Epoch 30/70\n",
      "906/906 [==============================] - 31s 34ms/sample - loss: 0.0013 - mse: 0.0013 - val_loss: 0.1953 - val_mse: 0.1953\n",
      "Epoch 31/70\n",
      "906/906 [==============================] - 32s 35ms/sample - loss: 0.0010 - mse: 0.0010 - val_loss: 0.1895 - val_mse: 0.1895\n",
      "Epoch 32/70\n",
      "906/906 [==============================] - 31s 35ms/sample - loss: 0.0012 - mse: 0.0012 - val_loss: 0.1517 - val_mse: 0.1517\n",
      "Epoch 33/70\n",
      "906/906 [==============================] - 32s 35ms/sample - loss: 0.0016 - mse: 0.0016 - val_loss: 0.1066 - val_mse: 0.1066\n",
      "Epoch 34/70\n",
      "906/906 [==============================] - 31s 35ms/sample - loss: 0.0013 - mse: 0.0013 - val_loss: 0.1043 - val_mse: 0.1043\n",
      "Epoch 35/70\n",
      "906/906 [==============================] - 32s 35ms/sample - loss: 0.0012 - mse: 0.0012 - val_loss: 0.1130 - val_mse: 0.1130\n",
      "Epoch 36/70\n",
      "906/906 [==============================] - 32s 36ms/sample - loss: 0.0010 - mse: 0.0010 - val_loss: 0.1036 - val_mse: 0.1036\n",
      "Epoch 37/70\n",
      "906/906 [==============================] - 32s 36ms/sample - loss: 0.0010 - mse: 0.0010 - val_loss: 0.1297 - val_mse: 0.1297\n",
      "Epoch 38/70\n",
      "906/906 [==============================] - 32s 35ms/sample - loss: 9.9673e-04 - mse: 9.9673e-04 - val_loss: 0.0997 - val_mse: 0.0997\n",
      "Epoch 39/70\n",
      "906/906 [==============================] - 31s 35ms/sample - loss: 0.0010 - mse: 0.0010 - val_loss: 0.0515 - val_mse: 0.0515\n",
      "Epoch 40/70\n",
      "906/906 [==============================] - 32s 35ms/sample - loss: 0.0011 - mse: 0.0011 - val_loss: 0.0731 - val_mse: 0.0731\n",
      "Epoch 41/70\n",
      "906/906 [==============================] - 31s 34ms/sample - loss: 0.0012 - mse: 0.0012 - val_loss: 0.0759 - val_mse: 0.0759\n",
      "Epoch 42/70\n",
      "906/906 [==============================] - 31s 34ms/sample - loss: 8.8122e-04 - mse: 8.8122e-04 - val_loss: 0.0757 - val_mse: 0.0757\n",
      "Epoch 43/70\n",
      "906/906 [==============================] - 31s 34ms/sample - loss: 0.0010 - mse: 0.0010 - val_loss: 0.0660 - val_mse: 0.0660\n",
      "Epoch 44/70\n",
      "906/906 [==============================] - 28s 31ms/sample - loss: 9.0538e-04 - mse: 9.0538e-04 - val_loss: 0.0628 - val_mse: 0.0628\n",
      "Epoch 45/70\n",
      "906/906 [==============================] - 26s 29ms/sample - loss: 8.2044e-04 - mse: 8.2044e-04 - val_loss: 0.0848 - val_mse: 0.0848\n",
      "Epoch 46/70\n",
      "906/906 [==============================] - 26s 29ms/sample - loss: 0.0010 - mse: 0.0010 - val_loss: 0.0482 - val_mse: 0.0482\n",
      "Epoch 47/70\n",
      "906/906 [==============================] - 26s 28ms/sample - loss: 9.5546e-04 - mse: 9.5546e-04 - val_loss: 0.0662 - val_mse: 0.0662\n",
      "Epoch 48/70\n",
      "906/906 [==============================] - 26s 29ms/sample - loss: 9.7240e-04 - mse: 9.7240e-04 - val_loss: 0.0552 - val_mse: 0.0552\n",
      "Epoch 49/70\n",
      "906/906 [==============================] - 26s 29ms/sample - loss: 9.8576e-04 - mse: 9.8576e-04 - val_loss: 0.0517 - val_mse: 0.0517\n",
      "Epoch 50/70\n",
      "906/906 [==============================] - 26s 29ms/sample - loss: 9.5433e-04 - mse: 9.5433e-04 - val_loss: 0.0361 - val_mse: 0.0361\n",
      "Epoch 51/70\n",
      "906/906 [==============================] - 26s 28ms/sample - loss: 8.5077e-04 - mse: 8.5077e-04 - val_loss: 0.0418 - val_mse: 0.0418\n",
      "Epoch 52/70\n",
      "906/906 [==============================] - 26s 29ms/sample - loss: 0.0010 - mse: 0.0010 - val_loss: 0.0631 - val_mse: 0.0631\n",
      "Epoch 53/70\n",
      "906/906 [==============================] - 26s 29ms/sample - loss: 7.0408e-04 - mse: 7.0408e-04 - val_loss: 0.0558 - val_mse: 0.0558\n",
      "Epoch 54/70\n",
      "906/906 [==============================] - 26s 29ms/sample - loss: 8.2755e-04 - mse: 8.2755e-04 - val_loss: 0.0551 - val_mse: 0.0551\n",
      "Epoch 55/70\n",
      "906/906 [==============================] - 26s 29ms/sample - loss: 8.1399e-04 - mse: 8.1399e-04 - val_loss: 0.0535 - val_mse: 0.0535\n",
      "Epoch 56/70\n",
      "906/906 [==============================] - 26s 28ms/sample - loss: 9.3455e-04 - mse: 9.3455e-04 - val_loss: 0.0546 - val_mse: 0.0546\n",
      "Epoch 57/70\n",
      "906/906 [==============================] - 26s 28ms/sample - loss: 8.8121e-04 - mse: 8.8121e-04 - val_loss: 0.0570 - val_mse: 0.0570\n",
      "Epoch 58/70\n",
      "906/906 [==============================] - 26s 29ms/sample - loss: 8.4874e-04 - mse: 8.4874e-04 - val_loss: 0.0684 - val_mse: 0.0684\n",
      "Epoch 59/70\n",
      "906/906 [==============================] - 26s 28ms/sample - loss: 7.5182e-04 - mse: 7.5182e-04 - val_loss: 0.0568 - val_mse: 0.0568\n",
      "Epoch 60/70\n",
      "906/906 [==============================] - 26s 28ms/sample - loss: 7.3779e-04 - mse: 7.3779e-04 - val_loss: 0.0538 - val_mse: 0.0538\n",
      "Epoch 61/70\n",
      "906/906 [==============================] - 26s 29ms/sample - loss: 7.5237e-04 - mse: 7.5237e-04 - val_loss: 0.0571 - val_mse: 0.0571\n",
      "Epoch 62/70\n",
      "906/906 [==============================] - 26s 28ms/sample - loss: 0.0017 - mse: 0.0017 - val_loss: 0.0406 - val_mse: 0.0406\n",
      "Epoch 63/70\n",
      "906/906 [==============================] - 26s 28ms/sample - loss: 0.0013 - mse: 0.0013 - val_loss: 0.0453 - val_mse: 0.0453\n",
      "Epoch 64/70\n",
      "906/906 [==============================] - 26s 29ms/sample - loss: 0.0014 - mse: 0.0014 - val_loss: 0.0369 - val_mse: 0.0369\n",
      "Epoch 65/70\n",
      "906/906 [==============================] - 26s 29ms/sample - loss: 0.0012 - mse: 0.0012 - val_loss: 0.0526 - val_mse: 0.0526\n",
      "Epoch 66/70\n",
      "906/906 [==============================] - 26s 28ms/sample - loss: 0.0011 - mse: 0.0011 - val_loss: 0.0474 - val_mse: 0.0474\n",
      "Epoch 67/70\n",
      "906/906 [==============================] - 26s 29ms/sample - loss: 0.0012 - mse: 0.0012 - val_loss: 0.0424 - val_mse: 0.0424\n",
      "Epoch 68/70\n",
      "906/906 [==============================] - 26s 29ms/sample - loss: 0.0011 - mse: 0.0011 - val_loss: 0.0326 - val_mse: 0.0326\n",
      "Epoch 69/70\n",
      "906/906 [==============================] - 26s 28ms/sample - loss: 7.1883e-04 - mse: 7.1883e-04 - val_loss: 0.0427 - val_mse: 0.0427\n",
      "Epoch 70/70\n",
      "906/906 [==============================] - 26s 29ms/sample - loss: 9.5442e-04 - mse: 9.5442e-04 - val_loss: 0.0527 - val_mse: 0.0527\n"
     ]
    }
   ],
   "source": [
    "# start training\n",
    "history = model.fit(\n",
    "    x_train, y_train,\n",
    "    validation_data = (x_test, y_test),\n",
    "    batch_size = batch_size,\n",
    "    epochs = epochs\n",
    ")"
   ]
  },
  {
   "cell_type": "code",
   "execution_count": 439,
   "metadata": {},
   "outputs": [],
   "source": [
    "model.save('stock.h5')"
   ]
  },
  {
   "cell_type": "code",
   "execution_count": 141,
   "metadata": {},
   "outputs": [],
   "source": [
    "test_predict = model.predict(x_test)\n",
    "train_predict = model.predict(x_train)"
   ]
  },
  {
   "cell_type": "code",
   "execution_count": 144,
   "metadata": {},
   "outputs": [],
   "source": [
    "test_predict = scaler.inverse_transform(test_predict)\n",
    "train_predict = scaler.inverse_transform(train_predict)"
   ]
  },
  {
   "cell_type": "code",
   "execution_count": 437,
   "metadata": {},
   "outputs": [
    {
     "name": "stdout",
     "output_type": "stream",
     "text": [
      "test MSE:232.44135002562012, train MSE:157.57386412741076\n"
     ]
    }
   ],
   "source": [
    "import math\n",
    "from sklearn.metrics import mean_squared_error\n",
    "print('test MSE:{}, train MSE:{}'.format(math.sqrt(mean_squared_error(y_test,test_predict)),\n",
    "      math.sqrt(mean_squared_error(y_train,train_predict))))"
   ]
  },
  {
   "cell_type": "markdown",
   "metadata": {},
   "source": [
    "Visualize model performance"
   ]
  },
  {
   "cell_type": "code",
   "execution_count": 232,
   "metadata": {},
   "outputs": [
    {
     "data": {
      "image/png": "[encoded data removed]",
      "text/plain": [
       "<Figure size 432x288 with 1 Axes>"
      ]
     },
     "metadata": {
      "needs_background": "light"
     },
     "output_type": "display_data"
    }
   ],
   "source": [
    "time_step=100\n",
    "train_size = train_predict.shape[0]\n",
    "test_size = test_predict.shape[0]\n",
    "trainPredictPlot = np.empty_like(df1)\n",
    "trainPredictPlot[:, :] = np.nan\n",
    "trainPredictPlot[time_step:train_size+time_step, :] = train_predict\n",
    "# shift test predictions for plotting\n",
    "testPredictPlot = np.empty_like(df1)\n",
    "testPredictPlot[:, :] = np.nan\n",
    "testPredictPlot[train_size+(look_back*2):df1.shape[0], :] = test_predict\n",
    "# plot baseline and predictions\n",
    "plt.plot(scaler.inverse_transform(df1), label = 'ori_stock', linestyle = 'solid')\n",
    "plt.plot(trainPredictPlot, label = 'train_stock', linestyle = 'solid')\n",
    "plt.plot(testPredictPlot, label = 'test_stock', linestyle = 'solid')\n",
    "plt.legend()\n",
    "plt.tight_layout()\n",
    "plt.show()"
   ]
  },
  {
   "cell_type": "markdown",
   "metadata": {},
   "source": [
    "Forecast the future stock price"
   ]
  },
  {
   "cell_type": "code",
   "execution_count": 397,
   "metadata": {},
   "outputs": [],
   "source": [
    "# get the last time_step(100) base data\n",
    "forecast_data_base = test_data.flatten()[len(test_data)-time_step:]\n",
    "forecast_data = list(forecast_data_base)"
   ]
  },
  {
   "cell_type": "code",
   "execution_count": 398,
   "metadata": {},
   "outputs": [],
   "source": [
    "predicted_stock = []\n",
    "n_steps = 100\n",
    "i=0\n",
    "# start prediction\n",
    "while(i<30):\n",
    "    if(len(forecast_data)>100):\n",
    "        # get latest 100 data\n",
    "        temp_forecast_data = forecast_data[i:]\n",
    "        # reshape to the required shape for model prediction\n",
    "        temp_forecast_data = temp_forecast_data.reshape((1, n_steps, -1))\n",
    "        output = model.predict(temp_forecast_data, verbose=0)[0][0]\n",
    "        # store into predicted and forecast_data\n",
    "        predicted_stock.append(output)\n",
    "        forecast_data = np.append(forecast_data,output)\n",
    "        i = i + 1\n",
    "    else:\n",
    "        # for base data prediction case\n",
    "        forecast_data_base = forecast_data_base.reshape((1, n_steps, 1))\n",
    "        output = model.predict(forecast_data_base, verbose=0)[0][0]\n",
    "        predicted_stock.append(output)\n",
    "        forecast_data = np.array(forecast_data)\n",
    "        forecast_data = np.append(forecast_data,output)\n",
    "        i = i + 1\n",
    "    "
   ]
  },
  {
   "cell_type": "code",
   "execution_count": 414,
   "metadata": {},
   "outputs": [],
   "source": [
    "predicted_output_reshape = np.array(predicted_stock)\n",
    "# reshape output for the scaler inverse\n",
    "plot_stock = predicted_output_reshape.reshape(predicted_output_reshape.shape[0],-1)\n",
    "plot_stock = scaler.inverse_transform(plot_stock)\n",
    "# base data inverse\n",
    "plot_df = scaler.inverse_transform(df1)"
   ]
  },
  {
   "cell_type": "code",
   "execution_count": 434,
   "metadata": {},
   "outputs": [
    {
     "data": {
      "image/png": "[encoded data removed]",
      "text/plain": [
       "<Figure size 432x288 with 1 Axes>"
      ]
     },
     "metadata": {
      "needs_background": "light"
     },
     "output_type": "display_data"
    }
   ],
   "source": [
    "# plot the merge array of prediction and base stock\n",
    "plt.plot(np.append(plot_df,plot_stock), linestyle = 'solid', label = 'predicted_stock', color = 'b')\n",
    "plt.plot(plot_df, linestyle = 'solid', label = 'base_stock', color = 'r')\n",
    "plt.legend()\n",
    "plt.tight_layout()"
   ]
  }
 ],
 "metadata": {
  "kernelspec": {
   "display_name": "tensorflow",
   "language": "python",
   "name": "tensorflow"
  },
  "language_info": {
   "codemirror_mode": {
    "name": "ipython",
    "version": 3
   },
   "file_extension": ".py",
   "mimetype": "text/x-python",
   "name": "python",
   "nbconvert_exporter": "python",
   "pygments_lexer": "ipython3",
   "version": "3.6.9"
  }
 },
 "nbformat": 4,
 "nbformat_minor": 4
}
