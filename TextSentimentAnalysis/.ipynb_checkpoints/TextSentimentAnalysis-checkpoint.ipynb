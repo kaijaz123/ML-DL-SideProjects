{
 "cells": [
  {
   "cell_type": "code",
   "execution_count": 1,
   "metadata": {
    "colab": {
     "base_uri": "https://localhost:8080/"
    },
    "executionInfo": {
     "elapsed": 639,
     "status": "ok",
     "timestamp": 1630645316256,
     "user": {
      "displayName": "ONG KAI JAZ",
      "photoUrl": "",
      "userId": "05323688632760318897"
     },
     "user_tz": -480
    },
    "id": "Rn5gmaTSOoSv",
    "outputId": "9ea34b6a-a360-4328-881f-26076977d86f"
   },
   "outputs": [
    {
     "name": "stdout",
     "output_type": "stream",
     "text": [
      "/content/drive/MyDrive/TweetsSentimentAnalysis\n"
     ]
    }
   ],
   "source": [
    "%cd drive/MyDrive/TweetsSentimentAnalysis/"
   ]
  },
  {
   "cell_type": "code",
   "execution_count": 2,
   "metadata": {
    "executionInfo": {
     "elapsed": 1510,
     "status": "ok",
     "timestamp": 1630645318207,
     "user": {
      "displayName": "ONG KAI JAZ",
      "photoUrl": "",
      "userId": "05323688632760318897"
     },
     "user_tz": -480
    },
    "id": "AVIujnlUvec7"
   },
   "outputs": [],
   "source": [
    "import nltk\n",
    "from nltk.tokenize import sent_tokenize, word_tokenize\n",
    "from nltk.corpus import stopwords\n",
    "from nltk.stem import PorterStemmer\n",
    "from nltk.stem import WordNetLemmatizer\n",
    "from sklearn.feature_extraction.text import TfidfVectorizer\n",
    "from sklearn.feature_extraction.text import CountVectorizer\n",
    "from sklearn.model_selection import train_test_split\n",
    "from sklearn.naive_bayes import BernoulliNB\n",
    "from sklearn import metrics\n",
    "from sklearn.pipeline import Pipeline\n",
    "\n",
    "from collections import Counter\n",
    "import string\n",
    "import numpy as np\n",
    "import pandas as pd\n",
    "import matplotlib.pyplot as plt\n",
    "import re"
   ]
  },
  {
   "cell_type": "code",
   "execution_count": 3,
   "metadata": {
    "colab": {
     "base_uri": "https://localhost:8080/",
     "height": 204
    },
    "executionInfo": {
     "elapsed": 462,
     "status": "ok",
     "timestamp": 1630645318667,
     "user": {
      "displayName": "ONG KAI JAZ",
      "photoUrl": "",
      "userId": "05323688632760318897"
     },
     "user_tz": -480
    },
    "id": "HgQrT0IeO7V2",
    "outputId": "1b4bb1f6-b424-4d31-b971-ebbf1baba178"
   },
   "outputs": [
    {
     "data": {
      "text/html": [
       "<div>\n",
       "<style scoped>\n",
       "    .dataframe tbody tr th:only-of-type {\n",
       "        vertical-align: middle;\n",
       "    }\n",
       "\n",
       "    .dataframe tbody tr th {\n",
       "        vertical-align: top;\n",
       "    }\n",
       "\n",
       "    .dataframe thead th {\n",
       "        text-align: right;\n",
       "    }\n",
       "</style>\n",
       "<table border=\"1\" class=\"dataframe\">\n",
       "  <thead>\n",
       "    <tr style=\"text-align: right;\">\n",
       "      <th></th>\n",
       "      <th>selected_text</th>\n",
       "      <th>sentiment</th>\n",
       "    </tr>\n",
       "  </thead>\n",
       "  <tbody>\n",
       "    <tr>\n",
       "      <th>0</th>\n",
       "      <td>have responded if were going</td>\n",
       "      <td>0</td>\n",
       "    </tr>\n",
       "    <tr>\n",
       "      <th>1</th>\n",
       "      <td>sooo sad</td>\n",
       "      <td>1</td>\n",
       "    </tr>\n",
       "    <tr>\n",
       "      <th>2</th>\n",
       "      <td>bullying me</td>\n",
       "      <td>1</td>\n",
       "    </tr>\n",
       "    <tr>\n",
       "      <th>3</th>\n",
       "      <td>leave me alone</td>\n",
       "      <td>1</td>\n",
       "    </tr>\n",
       "    <tr>\n",
       "      <th>4</th>\n",
       "      <td>sons of</td>\n",
       "      <td>1</td>\n",
       "    </tr>\n",
       "  </tbody>\n",
       "</table>\n",
       "</div>"
      ],
      "text/plain": [
       "                  selected_text  sentiment\n",
       "0  have responded if were going          0\n",
       "1                      sooo sad          1\n",
       "2                   bullying me          1\n",
       "3                leave me alone          1\n",
       "4                       sons of          1"
      ]
     },
     "execution_count": 3,
     "metadata": {},
     "output_type": "execute_result"
    }
   ],
   "source": [
    "data = pd.read_csv(\"Data/dataset.csv\")\n",
    "data.head()"
   ]
  },
  {
   "cell_type": "code",
   "execution_count": 4,
   "metadata": {
    "colab": {
     "base_uri": "https://localhost:8080/",
     "height": 248
    },
    "executionInfo": {
     "elapsed": 536,
     "status": "ok",
     "timestamp": 1630645319190,
     "user": {
      "displayName": "ONG KAI JAZ",
      "photoUrl": "",
      "userId": "05323688632760318897"
     },
     "user_tz": -480
    },
    "id": "jAYE7pgayQjX",
    "outputId": "25f13d51-2526-4e61-b0a9-0f0ee5db71ac"
   },
   "outputs": [
    {
     "data": {
      "image/png": "[encoded data removed]",
      "text/plain": [
       "<Figure size 432x288 with 1 Axes>"
      ]
     },
     "metadata": {},
     "output_type": "display_data"
    }
   ],
   "source": [
    "#visualization\n",
    "neutral = len(data[data['sentiment'] == 0])\n",
    "neg = len(data[data['sentiment'] == 1])\n",
    "pos = len(data[data['sentiment'] == 2])\n",
    "total_emo = [neutral,neg,pos]\n",
    "plt.pie(total_emo, labels = ['Neutral','Negative','Positive'], autopct = '%1.1f%%')\n",
    "plt.show()"
   ]
  },
  {
   "cell_type": "code",
   "execution_count": 5,
   "metadata": {
    "executionInfo": {
     "elapsed": 12,
     "status": "ok",
     "timestamp": 1630645319191,
     "user": {
      "displayName": "ONG KAI JAZ",
      "photoUrl": "",
      "userId": "05323688632760318897"
     },
     "user_tz": -480
    },
    "id": "VrQoLUOcgX93"
   },
   "outputs": [],
   "source": [
    "data.dropna(inplace = True)\n",
    "data.reset_index(inplace = True)\n",
    "data.drop(columns = 'index', inplace = True)"
   ]
  },
  {
   "cell_type": "code",
   "execution_count": 6,
   "metadata": {
    "executionInfo": {
     "elapsed": 11,
     "status": "ok",
     "timestamp": 1630645319192,
     "user": {
      "displayName": "ONG KAI JAZ",
      "photoUrl": "",
      "userId": "05323688632760318897"
     },
     "user_tz": -480
    },
    "id": "_f1sygrIOttY"
   },
   "outputs": [],
   "source": [
    "# clean puntuation and convert lower case\n",
    "data['selected_text'] = data['selected_text'].str.lower()\n",
    "data['clean_text'] = data['selected_text'].str.replace('[{}]'.format(string.punctuation), '')\n",
    "data.drop(columns = 'selected_text',inplace = True)"
   ]
  },
  {
   "cell_type": "code",
   "execution_count": 7,
   "metadata": {
    "colab": {
     "base_uri": "https://localhost:8080/"
    },
    "executionInfo": {
     "elapsed": 3181,
     "status": "ok",
     "timestamp": 1630645322364,
     "user": {
      "displayName": "ONG KAI JAZ",
      "photoUrl": "",
      "userId": "05323688632760318897"
     },
     "user_tz": -480
    },
    "id": "blvg7bvbPhwc",
    "outputId": "22cd4590-1dfc-40c0-a4b2-5c428f26f58a"
   },
   "outputs": [
    {
     "name": "stdout",
     "output_type": "stream",
     "text": [
      "[nltk_data] Downloading package punkt to /root/nltk_data...\n",
      "[nltk_data]   Unzipping tokenizers/punkt.zip.\n"
     ]
    }
   ],
   "source": [
    "# tokenize sentence into words\n",
    "nltk.download('punkt')\n",
    "data['clean_text'] = data['clean_text'].apply(lambda item: word_tokenize(item))"
   ]
  },
  {
   "cell_type": "code",
   "execution_count": 8,
   "metadata": {
    "colab": {
     "base_uri": "https://localhost:8080/"
    },
    "executionInfo": {
     "elapsed": 21035,
     "status": "ok",
     "timestamp": 1630645343373,
     "user": {
      "displayName": "ONG KAI JAZ",
      "photoUrl": "",
      "userId": "05323688632760318897"
     },
     "user_tz": -480
    },
    "id": "1PtE9F4LikVG",
    "outputId": "0dab6c1f-7817-4c5f-e9eb-1d835f02544b"
   },
   "outputs": [
    {
     "name": "stdout",
     "output_type": "stream",
     "text": [
      "[nltk_data] Downloading package stopwords to /root/nltk_data...\n",
      "[nltk_data]   Unzipping corpora/stopwords.zip.\n"
     ]
    }
   ],
   "source": [
    "# install nltk stopwords\n",
    "nltk.download('stopwords')\n",
    "# remove stop words\n",
    "data['clean_text'] = data['clean_text'].apply(lambda words : [ word for word in words if word not in stopwords.words('english')])"
   ]
  },
  {
   "cell_type": "code",
   "execution_count": 9,
   "metadata": {
    "colab": {
     "base_uri": "https://localhost:8080/"
    },
    "executionInfo": {
     "elapsed": 2877,
     "status": "ok",
     "timestamp": 1630645346245,
     "user": {
      "displayName": "ONG KAI JAZ",
      "photoUrl": "",
      "userId": "05323688632760318897"
     },
     "user_tz": -480
    },
    "id": "04yhI2YGhf2o",
    "outputId": "a775bb29-4b84-423f-c441-5c8141e3e7ee"
   },
   "outputs": [
    {
     "name": "stdout",
     "output_type": "stream",
     "text": [
      "[nltk_data] Downloading package wordnet to /root/nltk_data...\n",
      "[nltk_data]   Unzipping corpora/wordnet.zip.\n"
     ]
    }
   ],
   "source": [
    "# define stem method\n",
    "nltk.download('wordnet')\n",
    "lemmatizer = WordNetLemmatizer()\n",
    "stemmer = PorterStemmer()\n",
    "\n",
    "# perform lemmatize\n",
    "data['clean_text'] = data['clean_text'].apply(lambda sent: [stemmer.stem(word) for word in sent])"
   ]
  },
  {
   "cell_type": "code",
   "execution_count": 10,
   "metadata": {
    "colab": {
     "base_uri": "https://localhost:8080/",
     "height": 204
    },
    "executionInfo": {
     "elapsed": 8,
     "status": "ok",
     "timestamp": 1630645346246,
     "user": {
      "displayName": "ONG KAI JAZ",
      "photoUrl": "",
      "userId": "05323688632760318897"
     },
     "user_tz": -480
    },
    "id": "GodYFBrregDW",
    "outputId": "ab163bd5-3028-47e2-be29-ddd78746ec50"
   },
   "outputs": [
    {
     "data": {
      "text/html": [
       "<div>\n",
       "<style scoped>\n",
       "    .dataframe tbody tr th:only-of-type {\n",
       "        vertical-align: middle;\n",
       "    }\n",
       "\n",
       "    .dataframe tbody tr th {\n",
       "        vertical-align: top;\n",
       "    }\n",
       "\n",
       "    .dataframe thead th {\n",
       "        text-align: right;\n",
       "    }\n",
       "</style>\n",
       "<table border=\"1\" class=\"dataframe\">\n",
       "  <thead>\n",
       "    <tr style=\"text-align: right;\">\n",
       "      <th></th>\n",
       "      <th>sentiment</th>\n",
       "      <th>clean_text</th>\n",
       "    </tr>\n",
       "  </thead>\n",
       "  <tbody>\n",
       "    <tr>\n",
       "      <th>0</th>\n",
       "      <td>0</td>\n",
       "      <td>[respond, go]</td>\n",
       "    </tr>\n",
       "    <tr>\n",
       "      <th>1</th>\n",
       "      <td>1</td>\n",
       "      <td>[sooo, sad]</td>\n",
       "    </tr>\n",
       "    <tr>\n",
       "      <th>2</th>\n",
       "      <td>1</td>\n",
       "      <td>[bulli]</td>\n",
       "    </tr>\n",
       "    <tr>\n",
       "      <th>3</th>\n",
       "      <td>1</td>\n",
       "      <td>[leav, alon]</td>\n",
       "    </tr>\n",
       "    <tr>\n",
       "      <th>4</th>\n",
       "      <td>1</td>\n",
       "      <td>[son]</td>\n",
       "    </tr>\n",
       "  </tbody>\n",
       "</table>\n",
       "</div>"
      ],
      "text/plain": [
       "   sentiment     clean_text\n",
       "0          0  [respond, go]\n",
       "1          1    [sooo, sad]\n",
       "2          1        [bulli]\n",
       "3          1   [leav, alon]\n",
       "4          1          [son]"
      ]
     },
     "execution_count": 10,
     "metadata": {},
     "output_type": "execute_result"
    }
   ],
   "source": [
    "data.head()"
   ]
  },
  {
   "cell_type": "code",
   "execution_count": null,
   "metadata": {
    "id": "uB6Ft4c_Pdyx"
   },
   "outputs": [],
   "source": [
    "def most_use_word(df):\n",
    "  count_vectorizer = CountVectorizer(analyzer = lambda x:x)\n",
    "  countVector = count_vectorizer.fit_transform(df['clean_text'])\n",
    "\n",
    "  # Appliyng Countvectorizer\n",
    "  print(\"{} Number of reviews has {} words\".format(countVector.shape[0], countVector.shape[1]))\n",
    "\n",
    "  count_vect_df = pd.DataFrame(countVector.toarray(), columns=count_vectorizer.get_feature_names())\n",
    "\n",
    "  # Count text frqeuency\n",
    "  count = pd.DataFrame(count_vect_df.sum())\n",
    "  countdf = count.sort_values(by = 0, ascending = False).head(20)\n",
    "\n",
    "  # Draw circle for visualization\n",
    "  # Create a circle for the center of the plot\n",
    "  my_circle=plt.Circle( (0,0), 0.7, color='white')\n",
    "  plt.pie(countdf[:3], labels=countdf.index[:3], colors=['green','blue','red'])\n",
    "  p=plt.gcf()\n",
    "  p.gca().add_artist(my_circle)\n",
    "  plt.show()"
   ]
  },
  {
   "cell_type": "code",
   "execution_count": null,
   "metadata": {
    "id": "-TFJ2-OqRuy9"
   },
   "outputs": [],
   "source": [
    "# Check most used workds for negative and positive sentiment\n",
    "neg = data[data['sentiment'] == 1]\n",
    "pos = data[data['sentiment'] == 0]\n",
    "\n",
    "# Most Used Words\n",
    "print(\"Most used negative words\")\n",
    "most_use_word(neg)\n",
    "\n",
    "print()\n",
    "\n",
    "print(\"Most used postive words\")\n",
    "most_use_word(pos)"
   ]
  },
  {
   "cell_type": "code",
   "execution_count": 16,
   "metadata": {
    "executionInfo": {
     "elapsed": 458,
     "status": "ok",
     "timestamp": 1630645447084,
     "user": {
      "displayName": "ONG KAI JAZ",
      "photoUrl": "",
      "userId": "05323688632760318897"
     },
     "user_tz": -480
    },
    "id": "7ZKlZb6HqQ_b"
   },
   "outputs": [],
   "source": [
    "# Apply TfidVectorizer\n",
    "vectorizer = TfidfVectorizer(analyzer=lambda x: x)\n",
    "x = vectorizer.fit_transform(data['clean_text'])"
   ]
  },
  {
   "cell_type": "code",
   "execution_count": 17,
   "metadata": {
    "executionInfo": {
     "elapsed": 966,
     "status": "ok",
     "timestamp": 1630645470383,
     "user": {
      "displayName": "ONG KAI JAZ",
      "photoUrl": "",
      "userId": "05323688632760318897"
     },
     "user_tz": -480
    },
    "id": "FKs5_dm1q_hF"
   },
   "outputs": [],
   "source": [
    "# Split into train and test\n",
    "X_train, X_test, y_train, y_test = train_test_split(\n",
    "    x, data['sentiment'], test_size=0.2, random_state=25)"
   ]
  },
  {
   "cell_type": "code",
   "execution_count": 20,
   "metadata": {
    "colab": {
     "base_uri": "https://localhost:8080/"
    },
    "executionInfo": {
     "elapsed": 1263,
     "status": "ok",
     "timestamp": 1630645489342,
     "user": {
      "displayName": "ONG KAI JAZ",
      "photoUrl": "",
      "userId": "05323688632760318897"
     },
     "user_tz": -480
    },
    "id": "c7ZHYI10rJJW",
    "outputId": "30e48a37-f4be-4b63-92e0-4db87d98de61"
   },
   "outputs": [
    {
     "name": "stdout",
     "output_type": "stream",
     "text": [
      "MultinomialNB Accuracy: 0.760329067641682\n"
     ]
    }
   ],
   "source": [
    "# Model Generation Using Multinomial Naive Bayes\n",
    "clf = BernoulliNB().fit(X_train, y_train)\n",
    "predicted= clf.predict(X_test)\n",
    "print(\"MultinomialNB Accuracy:\",metrics.accuracy_score(y_test, predicted))"
   ]
  },
  {
   "cell_type": "code",
   "execution_count": 70,
   "metadata": {
    "executionInfo": {
     "elapsed": 555,
     "status": "ok",
     "timestamp": 1630646328504,
     "user": {
      "displayName": "ONG KAI JAZ",
      "photoUrl": "",
      "userId": "05323688632760318897"
     },
     "user_tz": -480
    },
    "id": "Nx6QyPewK9Hm"
   },
   "outputs": [],
   "source": [
    "def prediction(sentence, vectorizer, model):\n",
    "  #Apply preprocess steps\n",
    "  lower_case = [word.lower() for word in sentence]\n",
    "  cleaned_text = [word.translate(str.maketrans('','',string.punctuation)) for word in lower_case]\n",
    "  tokenized_word = [word_tokenize(word) for word in cleaned_text]\n",
    "  no_stop_word = [word for word in tokenized_word[0] if word not in stopwords.words(\"english\")]\n",
    "\n",
    "  #Vectorize the words\n",
    "  vec_text = vectorizer.transform([no_stop_word])\n",
    "\n",
    "  # #Prediction\n",
    "  predicted = model.predict(vec_text)\n",
    "  if predicted == 1:\n",
    "    print(\"sentece {} is a negative comment!\".format(sentence))\n",
    "  elif predicted == 2:\n",
    "    print(\"sentece {} is a positive comment!\".format(sentence))\n",
    "  else:\n",
    "    print(\"sentece {} is a neutral comment!\".format(sentence))"
   ]
  },
  {
   "cell_type": "code",
   "execution_count": 71,
   "metadata": {
    "colab": {
     "base_uri": "https://localhost:8080/"
    },
    "executionInfo": {
     "elapsed": 4,
     "status": "ok",
     "timestamp": 1630646329154,
     "user": {
      "displayName": "ONG KAI JAZ",
      "photoUrl": "",
      "userId": "05323688632760318897"
     },
     "user_tz": -480
    },
    "id": "qlEYETp2NWls",
    "outputId": "cdb0eace-3ffb-46d4-ed50-0bcf6259905f"
   },
   "outputs": [
    {
     "name": "stdout",
     "output_type": "stream",
     "text": [
      "sentece ['I feel sad'] is a negative comment!\n"
     ]
    }
   ],
   "source": [
    "prediction([\"I feel sad\"], vectorizer, clf)"
   ]
  },
  {
   "cell_type": "code",
   "execution_count": null,
   "metadata": {
    "id": "fbY04AWI4xax"
   },
   "outputs": [],
   "source": [
    "import dill as pickle\n",
    "\n",
    "filename = \"text_sentiment.pkl\"\n",
    "#Save model and vectorizer\n",
    "with open(filename, \"wb\") as writer:\n",
    "    pickle.dump((vectorizer,clf),writer)"
   ]
  }
 ],
 "metadata": {
  "colab": {
   "authorship_tag": "ABX9TyOsmbd85d9b0kFGPWCJYg7I",
   "collapsed_sections": [],
   "mount_file_id": "1Jakq6JWAMYJSysgVYGCcSjAudUWaHlml",
   "name": "TextSentimentAnalysis.ipynb",
   "provenance": []
  },
  "kernelspec": {
   "display_name": "Python 3",
   "language": "python",
   "name": "python3"
  },
  "language_info": {
   "codemirror_mode": {
    "name": "ipython",
    "version": 3
   },
   "file_extension": ".py",
   "mimetype": "text/x-python",
   "name": "python",
   "nbconvert_exporter": "python",
   "pygments_lexer": "ipython3",
   "version": "3.6.9"
  }
 },
 "nbformat": 4,
 "nbformat_minor": 1
}
